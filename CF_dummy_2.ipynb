{
  "nbformat": 4,
  "nbformat_minor": 0,
  "metadata": {
    "colab": {
      "name": "CF_dummy 2",
      "version": "0.3.2",
      "provenance": [],
      "collapsed_sections": [],
      "include_colab_link": true
    },
    "kernelspec": {
      "name": "python3",
      "display_name": "Python 3"
    }
  },
  "cells": [
    {
      "cell_type": "markdown",
      "metadata": {
        "id": "view-in-github",
        "colab_type": "text"
      },
      "source": [
        "<a href=\"https://colab.research.google.com/github/MicroprocessorX069/Collaborative-Filtering-for-medical-history/blob/master/CF_dummy_2.ipynb\" target=\"_parent\"><img src=\"https://colab.research.google.com/assets/colab-badge.svg\" alt=\"Open In Colab\"/></a>"
      ]
    },
    {
      "metadata": {
        "id": "D8pciyChfwxz",
        "colab_type": "code",
        "colab": {}
      },
      "cell_type": "code",
      "source": [
        "import torch.nn as nn\n",
        "import torch.nn.functional as F\n",
        "\n",
        "class Net(nn.Module):\n",
        "  def __init__(self):\n",
        "    super(Net,self).__init__()\n",
        "    self.fc1=nn.Linear(28*28,200)\n",
        "    self.fc2=nn.Linear(200,200)\n",
        "    self.fc3=nn.Linear(200,10)\n",
        "  \n",
        "  def forward(self,x):\n",
        "    x=F.relu(self.fc1(x))\n",
        "    x=F.relu(self.fc2(x))\n",
        "    x=self.fc3(x)\n",
        "    return F.log_softmax(x)\n",
        "  "
      ],
      "execution_count": 0,
      "outputs": []
    },
    {
      "metadata": {
        "id": "gbDdezEIoCAo",
        "colab_type": "code",
        "colab": {}
      },
      "cell_type": "code",
      "source": [
        "net=Net()\n",
        "print(net)"
      ],
      "execution_count": 0,
      "outputs": []
    },
    {
      "metadata": {
        "id": "t_R8L02foFgZ",
        "colab_type": "code",
        "colab": {}
      },
      "cell_type": "code",
      "source": [
        "optimizer=optim.SGD(net.parameters(),lr=learning_rate,momentum=0.9)\n",
        "criterion=nn.NLLLoss()"
      ],
      "execution_count": 0,
      "outputs": []
    },
    {
      "metadata": {
        "id": "GWJwE1zGt5LY",
        "colab_type": "code",
        "colab": {}
      },
      "cell_type": "code",
      "source": [
        "for epoch in range(epochs):\n",
        "  for batch_idx,(data,target) in enumerate(train_loader):\n",
        "    data,target=Variable(data),Variable(target)\n",
        "    data=data.view(-1,28*28) #?\n",
        "    optimizer.zero_grad()\n",
        "    net_out=net(data) # getting predicted values\n",
        "    loss=criterion(net_out,target) # calculating loss between target and predicted values\n",
        "    loss.backward() #updating the weights\n",
        "    optimizer.step()\n",
        "    if batch_idx%log_interval==0:\n",
        "      print('Train Epoch: {} [{}/{} ({:.0f}%)]\\t Loss : {:.6f}'.format(\n",
        "      epoch,batch_idx*len(data),len(train_loader.dataset),\n",
        "      100*batch_idx/len(train_loader),loss.data[0]))"
      ],
      "execution_count": 0,
      "outputs": []
    },
    {
      "metadata": {
        "id": "JhQHS-IfwQ-p",
        "colab_type": "code",
        "colab": {}
      },
      "cell_type": "code",
      "source": [
        "test_loss = 0\n",
        "correct = 0\n",
        "for data, target in test_loader:\n",
        "    data, target = Variable(data, volatile=True), Variable(target)\n",
        "    data = data.view(-1, 28 * 28)\n",
        "    net_out = net(data)\n",
        "    # sum up batch loss\n",
        "    test_loss += criterion(net_out, target).data[0]\n",
        "    pred = net_out.data.max(1)[1]  # get the index of the max log-probability\n",
        "    correct += pred.eq(target.data).sum()\n",
        "\n",
        "test_loss /= len(test_loader.dataset)\n",
        "print('\\nTest set: Average loss: {:.4f}, Accuracy: {}/{} ({:.0f}%)\\n'.format(\n",
        "        test_loss, correct, len(test_loader.dataset),\n",
        "        100. * correct / len(test_loader.dataset)))"
      ],
      "execution_count": 0,
      "outputs": []
    }
  ]
}