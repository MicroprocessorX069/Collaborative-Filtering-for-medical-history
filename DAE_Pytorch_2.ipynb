{
  "nbformat": 4,
  "nbformat_minor": 0,
  "metadata": {
    "colab": {
      "name": "DAE Pytorch 2",
      "provenance": [],
      "collapsed_sections": [],
      "include_colab_link": true
    },
    "kernelspec": {
      "name": "python3",
      "display_name": "Python 3"
    },
    "accelerator": "GPU"
  },
  "cells": [
    {
      "cell_type": "markdown",
      "metadata": {
        "id": "view-in-github",
        "colab_type": "text"
      },
      "source": [
        "<a href=\"https://colab.research.google.com/github/MicroprocessorX069/Collaborative-Filtering-for-medical-history/blob/master/DAE_Pytorch_2.ipynb\" target=\"_parent\"><img src=\"https://colab.research.google.com/assets/colab-badge.svg\" alt=\"Open In Colab\"/></a>"
      ]
    },
    {
      "cell_type": "code",
      "metadata": {
        "id": "AXlc4A-xMObg",
        "colab_type": "code",
        "colab": {}
      },
      "source": [
        "#from google.colab import drive\n",
        "#drive.mount('/content/drive/')"
      ],
      "execution_count": 0,
      "outputs": []
    },
    {
      "cell_type": "code",
      "metadata": {
        "id": "J88tQp2L-ktx",
        "colab_type": "code",
        "colab": {}
      },
      "source": [
        "import torch \n",
        "from torch import nn, optim\n",
        "from torch.autograd.variable import Variable\n",
        "from torchvision import transforms, datasets\n",
        "import os\n",
        "from PIL import Image\n",
        "import glob\n",
        "import PIL\n",
        "from PIL import ImageFont\n",
        "from PIL import Image\n",
        "from PIL import ImageDraw\n",
        "import matplotlib.pyplot as plt\n",
        "import random\n",
        "from bokeh.io import curdoc, show, output_notebook\n",
        "from bokeh.layouts import column\n",
        "from bokeh.models import ColumnDataSource\n",
        "from bokeh.plotting import figure\n",
        "from functools import partial\n",
        "from threading import Thread\n",
        "from tornado import gen\n",
        "import time\n",
        "import pickle\n",
        "from torchsummary import summary\n",
        "\n",
        "#parameters\n",
        "batch_size=100\n",
        "train_split=0.8\n",
        "num_epochs=5\n",
        "\n",
        "#input\n",
        "data_dir=\"data\"\n",
        "inp_width=300\n",
        "inp_height=256\n",
        "inp_channels=3\n",
        "\n",
        "#generator\n",
        "ngf=2\n",
        "ndf=2\n",
        "\n",
        "#discriminator\n",
        "ndf=2"
      ],
      "execution_count": 0,
      "outputs": []
    },
    {
      "cell_type": "markdown",
      "metadata": {
        "id": "cdh__AoSYHCe",
        "colab_type": "text"
      },
      "source": [
        "#To copy\n"
      ]
    },
    {
      "cell_type": "code",
      "metadata": {
        "id": "dflUNFEBKaBn",
        "colab_type": "code",
        "colab": {}
      },
      "source": [
        "# from __future__ import absolute_import, division, print_function, unicode_literals\n",
        "# !pip install tensorflow-gpu==2.0\n",
        "# import tensorflow as tf\n",
        "# import numpy as np\n",
        "# import os\n",
        "# import datetime\n",
        "# from tensorflow.python.client import device_lib\n",
        "# print(device_lib.list_local_devices())\n",
        "\n",
        "# print(\"Tensorflow version: \",tf.__version__)"
      ],
      "execution_count": 0,
      "outputs": []
    },
    {
      "cell_type": "code",
      "metadata": {
        "id": "O9h_6ZsXvwv0",
        "colab_type": "code",
        "colab": {}
      },
      "source": [
        "#!pip install tensorflow --upgrade --force-reinstall"
      ],
      "execution_count": 0,
      "outputs": []
    },
    {
      "cell_type": "code",
      "metadata": {
        "id": "qeKL-SIvvVf6",
        "colab_type": "code",
        "outputId": "344835a9-8634-47b5-ae1c-25d78e3a1494",
        "colab": {
          "base_uri": "https://localhost:8080/",
          "height": 80
        }
      },
      "source": [
        "from __future__ import absolute_import, division, print_function, unicode_literals\n",
        "\n",
        "import tensorflow as tf\n",
        "import numpy as np\n",
        "import os\n",
        "import datetime\n",
        "import random"
      ],
      "execution_count": 0,
      "outputs": [
        {
          "output_type": "display_data",
          "data": {
            "text/html": [
              "<p style=\"color: red;\">\n",
              "The default version of TensorFlow in Colab will soon switch to TensorFlow 2.x.<br>\n",
              "We recommend you <a href=\"https://www.tensorflow.org/guide/migrate\" target=\"_blank\">upgrade</a> now \n",
              "or ensure your notebook will continue to use TensorFlow 1.x via the <code>%tensorflow_version 1.x</code> magic:\n",
              "<a href=\"https://colab.research.google.com/notebooks/tensorflow_version.ipynb\" target=\"_blank\">more info</a>.</p>\n"
            ],
            "text/plain": [
              "<IPython.core.display.HTML object>"
            ]
          },
          "metadata": {
            "tags": []
          }
        }
      ]
    },
    {
      "cell_type": "markdown",
      "metadata": {
        "id": "MvHkHgh5QtYA",
        "colab_type": "text"
      },
      "source": [
        "http://biobank.ctsu.ox.ac.uk/crystal/field.cgi?id=41202"
      ]
    },
    {
      "cell_type": "code",
      "metadata": {
        "id": "X_1HnrK2O5eA",
        "colab_type": "code",
        "outputId": "63276310-405a-4a40-8cb3-ace3a42359f1",
        "colab": {
          "base_uri": "https://localhost:8080/",
          "height": 122
        }
      },
      "source": [
        "from google.colab import drive\n",
        "drive.mount('/content/drive',force_remount=True)"
      ],
      "execution_count": 0,
      "outputs": [
        {
          "output_type": "stream",
          "text": [
            "Go to this URL in a browser: https://accounts.google.com/o/oauth2/auth?client_id=947318989803-6bn6qk8qdgf4n4g3pfee6491hc0brc4i.apps.googleusercontent.com&redirect_uri=urn%3aietf%3awg%3aoauth%3a2.0%3aoob&response_type=code&scope=email%20https%3a%2f%2fwww.googleapis.com%2fauth%2fdocs.test%20https%3a%2f%2fwww.googleapis.com%2fauth%2fdrive%20https%3a%2f%2fwww.googleapis.com%2fauth%2fdrive.photos.readonly%20https%3a%2f%2fwww.googleapis.com%2fauth%2fpeopleapi.readonly\n",
            "\n",
            "Enter your authorization code:\n",
            "··········\n",
            "Mounted at /content/drive\n"
          ],
          "name": "stdout"
        }
      ]
    },
    {
      "cell_type": "code",
      "metadata": {
        "id": "IWf-SqtJPIrG",
        "colab_type": "code",
        "colab": {}
      },
      "source": [
        "#paths\n",
        "root_dir=\"/content/drive/My Drive/Projects/Collaborative filtering/\"\n",
        "fcodes_dataset_path=\"/content/drive/My Drive/Projects/Collaborative filtering/Datasets/fcodesbucket edited - fcodesbucket.csv\"\n",
        "version=\"dae-2\"\n",
        "ckpt_dir=\"/content/drive/My Drive/Projects/Collaborative filtering/Implementations/lstm-2/checkpoints/\""
      ],
      "execution_count": 0,
      "outputs": []
    },
    {
      "cell_type": "code",
      "metadata": {
        "id": "9SFyeB66QHbV",
        "colab_type": "code",
        "outputId": "c912d1ba-c196-42e4-adb8-aa7419f06d5c",
        "colab": {
          "base_uri": "https://localhost:8080/",
          "height": 34
        }
      },
      "source": [
        "text=open(fcodes_dataset_path).read()\n",
        "print(\"Text is {} characters long\".format(len(text)))"
      ],
      "execution_count": 0,
      "outputs": [
        {
          "output_type": "stream",
          "text": [
            "Text is 381175 characters long\n"
          ],
          "name": "stdout"
        }
      ]
    },
    {
      "cell_type": "code",
      "metadata": {
        "id": "v5ak2el8j5q8",
        "colab_type": "code",
        "colab": {}
      },
      "source": [
        "text"
      ],
      "execution_count": 0,
      "outputs": []
    },
    {
      "cell_type": "code",
      "metadata": {
        "id": "A-LnL7wGj9eE",
        "colab_type": "code",
        "outputId": "2654ad61-de5b-4d94-9ed5-0828392b0956",
        "colab": {
          "base_uri": "https://localhost:8080/",
          "height": 34
        }
      },
      "source": [
        "histories=[h for h in text.split('\\n')]\n",
        "print(\"Data has {} patient histories\".format(len(histories)))\n",
        "n_patients=len(histories)"
      ],
      "execution_count": 0,
      "outputs": [
        {
          "output_type": "stream",
          "text": [
            "Data has 6237 patient histories\n"
          ],
          "name": "stdout"
        }
      ]
    },
    {
      "cell_type": "code",
      "metadata": {
        "id": "Zx4nx_oZkfiW",
        "colab_type": "code",
        "outputId": "e4494ea2-c1d2-448a-f003-5821aadbe266",
        "colab": {
          "base_uri": "https://localhost:8080/",
          "height": 34
        }
      },
      "source": [
        "n_patients=len(histories)\n",
        "\n",
        "real_data=[]\n",
        "for history in histories:\n",
        "  real_data.append([symptom for symptom in history.split(',')])\n",
        "for history in real_data:\n",
        "  while \"\" in history:\n",
        "    history.remove(\"\")\n",
        "  history.append(\"End\")\n",
        "\n",
        "real_data[0]"
      ],
      "execution_count": 0,
      "outputs": [
        {
          "output_type": "execute_result",
          "data": {
            "text/plain": [
              "['H269', 'D259', 'F067', 'End']"
            ]
          },
          "metadata": {
            "tags": []
          },
          "execution_count": 8
        }
      ]
    },
    {
      "cell_type": "markdown",
      "metadata": {
        "id": "l7RGQ2_Fmis_",
        "colab_type": "text"
      },
      "source": [
        "Sorting the symptoms, except the last 'end'"
      ]
    },
    {
      "cell_type": "code",
      "metadata": {
        "id": "qiB3IKvXmegm",
        "colab_type": "code",
        "colab": {}
      },
      "source": [
        "for i,_ in enumerate(real_data):\n",
        "  real_data[i]=sorted(real_data[i][:-1])+[real_data[i][-1]]"
      ],
      "execution_count": 0,
      "outputs": []
    },
    {
      "cell_type": "markdown",
      "metadata": {
        "id": "AtwtPnTvsbs0",
        "colab_type": "text"
      },
      "source": [
        "Splitting each symptom in to 3 levels\n",
        "e.g. A423 as A, 42, 3"
      ]
    },
    {
      "cell_type": "markdown",
      "metadata": {
        "id": "PTNKON-_3Cqv",
        "colab_type": "text"
      },
      "source": [
        "Splitting one history into multiple sub histories\n",
        "H, 20, 4, G,12,6 into\n",
        "[H],[H,20],[H,20,4],[H,20,4,G]\n",
        "\n",
        "Min length has to be 4.\n",
        "i.e. One whole symptom has to be there (Not split, whole with all 3 levels) \n"
      ]
    },
    {
      "cell_type": "code",
      "metadata": {
        "id": "-HCoNkH0qwS9",
        "colab_type": "code",
        "outputId": "e5b61405-f632-4b0f-fccc-3ad1d3fb0e09",
        "colab": {
          "base_uri": "https://localhost:8080/",
          "height": 34
        }
      },
      "source": [
        "data=[]\n",
        "for history in real_data:\n",
        "  hist=[]\n",
        "  for s in history:\n",
        "    if s!=\"End\":\n",
        "      try:\n",
        "        hist.extend([s[0],s[1:3],s[3]])\n",
        "      except:\n",
        "        hist.extend([s[0],s[1:3],'0'])\n",
        "    else:\n",
        "      hist.append(s)\n",
        "  data.append(hist)\n",
        "data[0]\n",
        "\n"
      ],
      "execution_count": 0,
      "outputs": [
        {
          "output_type": "execute_result",
          "data": {
            "text/plain": [
              "['D', '25', '9', 'F', '06', '7', 'H', '26', '9', 'End']"
            ]
          },
          "metadata": {
            "tags": []
          },
          "execution_count": 21
        }
      ]
    },
    {
      "cell_type": "code",
      "metadata": {
        "id": "6JOR_a-Ugrji",
        "colab_type": "code",
        "outputId": "40c82c17-da1f-4d7a-e8fd-a7c5f28eacd5",
        "colab": {
          "base_uri": "https://localhost:8080/",
          "height": 34
        }
      },
      "source": [
        "data[0]"
      ],
      "execution_count": 0,
      "outputs": [
        {
          "output_type": "execute_result",
          "data": {
            "text/plain": [
              "['H', '26', '9', 'D', '25', '9', 'F', '06', '7', 'End']"
            ]
          },
          "metadata": {
            "tags": []
          },
          "execution_count": 11
        }
      ]
    },
    {
      "cell_type": "markdown",
      "metadata": {
        "id": "LT-x2NT5xb9E",
        "colab_type": "text"
      },
      "source": [
        "Combining all histories to one"
      ]
    },
    {
      "cell_type": "code",
      "metadata": {
        "id": "-L5Ox7NTxMHs",
        "colab_type": "code",
        "colab": {}
      },
      "source": [
        "text=[]\n",
        "for history in data:\n",
        "  text.extend(history)\n"
      ],
      "execution_count": 0,
      "outputs": []
    },
    {
      "cell_type": "markdown",
      "metadata": {
        "id": "DSfwTddbxsAW",
        "colab_type": "text"
      },
      "source": [
        "Each characted mapped as a no."
      ]
    },
    {
      "cell_type": "code",
      "metadata": {
        "id": "8kpxehY7xbUL",
        "colab_type": "code",
        "outputId": "acb2c958-9aa0-45c8-af50-b8573d2734ce",
        "colab": {
          "base_uri": "https://localhost:8080/",
          "height": 204
        }
      },
      "source": [
        "vocab=sorted(set(text))\n",
        "print(\"There are {} unique characters\".format(len(vocab)))\n",
        "char2int={c:i for i,c in enumerate(vocab)}\n",
        "int2char=np.array(vocab)\n",
        "print(\"Vector:\\n\")\n",
        "for char,_ in zip(char2int,range(8)):\n",
        "  print(' {:4s}: {:3d},'.format(repr(char), char2int[char]))"
      ],
      "execution_count": 0,
      "outputs": [
        {
          "output_type": "stream",
          "text": [
            "There are 132 unique characters\n",
            "Vector:\n",
            "\n",
            " '0' :   0,\n",
            " '00':   1,\n",
            " '01':   2,\n",
            " '02':   3,\n",
            " '03':   4,\n",
            " '04':   5,\n",
            " '05':   6,\n",
            " '06':   7,\n"
          ],
          "name": "stdout"
        }
      ]
    },
    {
      "cell_type": "code",
      "metadata": {
        "id": "bd0bYFuZoaQ8",
        "colab_type": "code",
        "outputId": "79b2a5d3-d01f-414c-e05f-58eccacc8b46",
        "colab": {
          "base_uri": "https://localhost:8080/",
          "height": 34
        }
      },
      "source": [
        "char2int['End']"
      ],
      "execution_count": 0,
      "outputs": [
        {
          "output_type": "execute_result",
          "data": {
            "text/plain": [
              "115"
            ]
          },
          "metadata": {
            "tags": []
          },
          "execution_count": 24
        }
      ]
    },
    {
      "cell_type": "markdown",
      "metadata": {
        "id": "_FjJL1enZjie",
        "colab_type": "text"
      },
      "source": [
        "##Data analysis"
      ]
    },
    {
      "cell_type": "code",
      "metadata": {
        "id": "PLHhz4B4Z03w",
        "colab_type": "code",
        "colab": {}
      },
      "source": [
        "def flatten2D(grid):\n",
        "  a=[]\n",
        "  for x in grid:\n",
        "    a.extend(x)\n",
        "  return a"
      ],
      "execution_count": 0,
      "outputs": []
    },
    {
      "cell_type": "code",
      "metadata": {
        "id": "weR4AgCCZgf8",
        "colab_type": "code",
        "colab": {}
      },
      "source": [
        "\n",
        "from collections import Counter\n",
        "import operator\n",
        "def get_top10(aug_data):\n",
        "  flatten_aug_data=flatten2D(aug_data)\n",
        "  counter_levels=Counter(flatten_aug_data)\n",
        "  percent_levels=sorted([[i, (counter_levels[i] / len(flatten_aug_data) * 100.0)] for i in counter_levels],reverse=True,key=operator.itemgetter(1))\n",
        "  return percent_levels[1:10]"
      ],
      "execution_count": 0,
      "outputs": []
    },
    {
      "cell_type": "code",
      "metadata": {
        "id": "fOiB_r_CbmLz",
        "colab_type": "code",
        "outputId": "d908488d-ea07-468d-ed08-0383d7a96fe5",
        "colab": {
          "base_uri": "https://localhost:8080/",
          "height": 88
        }
      },
      "source": [
        "print(\"Top 10 Symptoms\")\n",
        "print(get_top10(real_data))\n",
        "print(\"Top 10 symptoms levels\")\n",
        "a=get_top10(aug_data)\n"
      ],
      "execution_count": 0,
      "outputs": [
        {
          "output_type": "stream",
          "text": [
            "Top 10 Symptoms\n",
            "[['R074', 1.533902411749357], ['F329', 1.2412867633354456], ['F103', 1.0008573452119134], ['R104', 0.926305587654229], ['R55', 0.892757296753271], ['F102', 0.8834383270585604], ['F100', 0.8815745331196183], ['T391', 0.8032951876840496], ['R073', 0.6989227271032915]]\n",
            "Top 10 symptoms levels\n"
          ],
          "name": "stdout"
        }
      ]
    },
    {
      "cell_type": "code",
      "metadata": {
        "id": "LKx8MyOKcROt",
        "colab_type": "code",
        "outputId": "9c3921d3-278d-4ce3-e2a7-7490ab8b7b06",
        "colab": {
          "base_uri": "https://localhost:8080/",
          "height": 265
        }
      },
      "source": [
        "import matplotlib.pyplot as plt\n",
        "top10_levels=np.array(get_top10(aug_data))\n",
        "#top10_levels[:,1].astype(int)\n",
        "y_pos = np.arange(len(top10_levels[:,0]))\n",
        " \n",
        "# Create bars\n",
        "plt.bar(y_pos, top10_levels[:,1])\n",
        " \n",
        "# Create names on the x-axis\n",
        "plt.xticks(y_pos, top10_levels[:,0])\n",
        " \n",
        "# Show graphic\n",
        "plt.show()\n",
        "\n",
        "#plt.bar(top10_levels[:,0],top10_levels[:,1])\n",
        "top10_symptoms=np.array(get_top10(real_data))\n",
        "#plt.bar(top10_symptoms[:,0],top10_symptoms[:,1])"
      ],
      "execution_count": 0,
      "outputs": [
        {
          "output_type": "display_data",
          "data": {
            "image/png": "[encoded data removed]",
            "text/plain": [
              "<Figure size 432x288 with 1 Axes>"
            ]
          },
          "metadata": {
            "tags": []
          }
        }
      ]
    },
    {
      "cell_type": "markdown",
      "metadata": {
        "id": "Hf2qKJbW0qPf",
        "colab_type": "text"
      },
      "source": [
        "Mapping each of the level codes in histories to nos."
      ]
    },
    {
      "cell_type": "code",
      "metadata": {
        "id": "amANcWru0Jzu",
        "colab_type": "code",
        "outputId": "c5990ed4-e4f2-41b5-f3c4-b4ae9e7ba4b0",
        "colab": {
          "base_uri": "https://localhost:8080/",
          "height": 68
        }
      },
      "source": [
        "int_data=[]\n",
        "for history in data:\n",
        "  int_data.append(np.array([char2int[level_code] for level_code in history],dtype=np.int32))\n",
        "int_data=np.array(int_data)\n",
        "print ('{}\\n mapped to integers:\\n {}'.format(repr(data[0]), int_data[0]))"
      ],
      "execution_count": 0,
      "outputs": [
        {
          "output_type": "stream",
          "text": [
            "['D', '25', '9', 'F', '06', '7', 'H', '26', '9', 'End']\n",
            " mapped to integers:\n",
            " [113  28  99 116   7  77 118  29  99 115]\n"
          ],
          "name": "stdout"
        }
      ]
    },
    {
      "cell_type": "markdown",
      "metadata": {
        "id": "2MC4ZvBBxi-d",
        "colab_type": "text"
      },
      "source": [
        "Creating training and validation sets"
      ]
    },
    {
      "cell_type": "code",
      "metadata": {
        "id": "rhn6W6DN9j3Z",
        "colab_type": "code",
        "colab": {}
      },
      "source": [
        "n_histories=len(data)"
      ],
      "execution_count": 0,
      "outputs": []
    },
    {
      "cell_type": "markdown",
      "metadata": {
        "id": "jAg_YNaSpXVC",
        "colab_type": "text"
      },
      "source": [
        "BLinding it with no 420"
      ]
    },
    {
      "cell_type": "code",
      "metadata": {
        "id": "n3YC_YKV2ec6",
        "colab_type": "code",
        "colab": {}
      },
      "source": [
        "#Find the max length of history\n",
        "max_history_len=0\n",
        "for history in int_data:\n",
        "  max_history_len=max(len(history),max_history_len)\n",
        "print(\"Longest history of a patient: \",max_history_len)"
      ],
      "execution_count": 0,
      "outputs": []
    },
    {
      "cell_type": "code",
      "metadata": {
        "id": "rAzugJNWx5Nh",
        "colab_type": "code",
        "colab": {}
      },
      "source": [
        "def random_blinding(history):\n",
        "  n=len(history)\n",
        "  history=list(map(lambda x:x/132,history))\n",
        "  y_history=history.copy()\n",
        "  req_len=95-n\n",
        "  res=[]\n",
        "  for it in range(2*n):\n",
        "    temp=history.copy()\n",
        "    \n",
        "    blind_indices = random.sample(range(0, n), round(n*0.3)) \n",
        "    for i in blind_indices:\n",
        "      temp[i]=1   \n",
        "    #Padding shoudl be done here. since, \n",
        "    \n",
        "    temp=np.append(temp,[(char2int['End'])/132]*req_len)\n",
        "    y_history=np.append(history.copy(),[(char2int['End'])/132]*req_len)\n",
        "    \n",
        "    res.append([temp,y_history])\n",
        "  return res"
      ],
      "execution_count": 0,
      "outputs": []
    },
    {
      "cell_type": "markdown",
      "metadata": {
        "id": "C_EkW7D6pcYb",
        "colab_type": "text"
      },
      "source": [
        "This is complete blinding. But needs to be optimized as the RAM limits the operation. Cool no problem as of now!"
      ]
    },
    {
      "cell_type": "code",
      "metadata": {
        "id": "xJKdAdCdvbxY",
        "colab_type": "code",
        "colab": {}
      },
      "source": [
        "from itertools import combinations \n",
        "BLIND_PERCENT=0.2\n",
        "def get_blind_histories(history):\n",
        "  n=len(history)\n",
        "  y_history,res=history,[]\n",
        "  comb = combinations(list(range(0,n)), int(n*BLIND_PERCENT)) \n",
        "  print(comb)\n",
        "  for c in list(comb):\n",
        "      history=y_history \n",
        "      for index in list(c):\n",
        "        history[index]=420\n",
        "      res.append([history,y_history])\n",
        "  return res"
      ],
      "execution_count": 0,
      "outputs": []
    },
    {
      "cell_type": "code",
      "metadata": {
        "id": "UDzyIkWctxIA",
        "colab_type": "code",
        "outputId": "0086f8e0-a281-4ca6-a2f7-eee680d12f7f",
        "colab": {
          "base_uri": "https://localhost:8080/",
          "height": 629
        }
      },
      "source": [
        "print(\"Blinding the integer codes of diseases with no. 420\")\n",
        "print(\"BLINDING PERCENT 30%.\\n \")\n",
        "\n",
        "aug_int_data=[]\n",
        "for history in int_data:\n",
        "  aug_int_data.extend(random_blinding(history))\n",
        "n_aug_histories=len(aug_int_data)\n",
        "aug_int_data=np.array(aug_int_data)\n",
        "\n",
        "print(\"Length of complete data points:\",len(aug_int_data)) # blinded data\n",
        "print(\"Example of a blinded data pointL: \",aug_int_data[0])"
      ],
      "execution_count": 231,
      "outputs": [
        {
          "output_type": "stream",
          "text": [
            "Blinding the integer codes of diseases with no. 420\n",
            "BLINDING PERCENT 30%.\n",
            " \n",
            "Length of complete data points: 296976\n",
            "Example of a blinded data pointL:  [[1.         0.21212121 0.75       0.87878788 0.0530303  1.\n",
            "  1.         0.21969697 0.75       0.87121212 0.87121212 0.87121212\n",
            "  0.87121212 0.87121212 0.87121212 0.87121212 0.87121212 0.87121212\n",
            "  0.87121212 0.87121212 0.87121212 0.87121212 0.87121212 0.87121212\n",
            "  0.87121212 0.87121212 0.87121212 0.87121212 0.87121212 0.87121212\n",
            "  0.87121212 0.87121212 0.87121212 0.87121212 0.87121212 0.87121212\n",
            "  0.87121212 0.87121212 0.87121212 0.87121212 0.87121212 0.87121212\n",
            "  0.87121212 0.87121212 0.87121212 0.87121212 0.87121212 0.87121212\n",
            "  0.87121212 0.87121212 0.87121212 0.87121212 0.87121212 0.87121212\n",
            "  0.87121212 0.87121212 0.87121212 0.87121212 0.87121212 0.87121212\n",
            "  0.87121212 0.87121212 0.87121212 0.87121212 0.87121212 0.87121212\n",
            "  0.87121212 0.87121212 0.87121212 0.87121212 0.87121212 0.87121212\n",
            "  0.87121212 0.87121212 0.87121212 0.87121212 0.87121212 0.87121212\n",
            "  0.87121212 0.87121212 0.87121212 0.87121212 0.87121212 0.87121212\n",
            "  0.87121212 0.87121212 0.87121212 0.87121212 0.87121212 0.87121212\n",
            "  0.87121212 0.87121212 0.87121212 0.87121212 0.87121212]\n",
            " [0.85606061 0.21212121 0.75       0.87878788 0.0530303  0.58333333\n",
            "  0.89393939 0.21969697 0.75       0.87121212 0.87121212 0.87121212\n",
            "  0.87121212 0.87121212 0.87121212 0.87121212 0.87121212 0.87121212\n",
            "  0.87121212 0.87121212 0.87121212 0.87121212 0.87121212 0.87121212\n",
            "  0.87121212 0.87121212 0.87121212 0.87121212 0.87121212 0.87121212\n",
            "  0.87121212 0.87121212 0.87121212 0.87121212 0.87121212 0.87121212\n",
            "  0.87121212 0.87121212 0.87121212 0.87121212 0.87121212 0.87121212\n",
            "  0.87121212 0.87121212 0.87121212 0.87121212 0.87121212 0.87121212\n",
            "  0.87121212 0.87121212 0.87121212 0.87121212 0.87121212 0.87121212\n",
            "  0.87121212 0.87121212 0.87121212 0.87121212 0.87121212 0.87121212\n",
            "  0.87121212 0.87121212 0.87121212 0.87121212 0.87121212 0.87121212\n",
            "  0.87121212 0.87121212 0.87121212 0.87121212 0.87121212 0.87121212\n",
            "  0.87121212 0.87121212 0.87121212 0.87121212 0.87121212 0.87121212\n",
            "  0.87121212 0.87121212 0.87121212 0.87121212 0.87121212 0.87121212\n",
            "  0.87121212 0.87121212 0.87121212 0.87121212 0.87121212 0.87121212\n",
            "  0.87121212 0.87121212 0.87121212 0.87121212 0.87121212]]\n"
          ],
          "name": "stdout"
        }
      ]
    },
    {
      "cell_type": "code",
      "metadata": {
        "id": "8zFe34LRpUwn",
        "colab_type": "code",
        "colab": {
          "base_uri": "https://localhost:8080/",
          "height": 34
        },
        "outputId": "8ffd084e-c063-4915-875e-5e2967c76398"
      },
      "source": [
        "len(aug_int_data[3][1])"
      ],
      "execution_count": 170,
      "outputs": [
        {
          "output_type": "execute_result",
          "data": {
            "text/plain": [
              "95"
            ]
          },
          "metadata": {
            "tags": []
          },
          "execution_count": 170
        }
      ]
    },
    {
      "cell_type": "markdown",
      "metadata": {
        "id": "meR_wLQBjfru",
        "colab_type": "text"
      },
      "source": [
        "##From Tensorflow doc - Creating dataset\n",
        "https://www.tensorflow.org/tutorials/load_data/text\n",
        "\n",
        "Pytorch GRU with attention maps\n",
        "https://pytorch.org/tutorials/intermediate/seq2seq_translation_tutorial.html#sphx-glr-intermediate-seq2seq-translation-tutorial-py"
      ]
    },
    {
      "cell_type": "markdown",
      "metadata": {
        "id": "KGY8TLh9qeHm",
        "colab_type": "text"
      },
      "source": [
        "##Pytorch code starts here."
      ]
    },
    {
      "cell_type": "code",
      "metadata": {
        "id": "e5z4AE7_qjBa",
        "colab_type": "code",
        "colab": {}
      },
      "source": [
        "class listDataset(torch.utils.data.Dataset):\n",
        "  def __init__(self,aug_int_data):\n",
        "    self.aug_int_data=aug_int_data\n",
        "     \n",
        "    self.data_transform=transforms.Compose([\n",
        "        transforms.ToTensor(),\n",
        "        transforms.Normalize([0.485],[0.229]) # need to normalize . How to do this will find out!.\n",
        "    ]) # oh my god! I also need to pad the input! Cool. # shoudl I do it before? would be easy.\n",
        "    \n",
        "  def __getitem__(self,index):\n",
        "    \n",
        "    blind_input=(self.aug_int_data[index][0]) # Rememeber each data point is a numpy array. Indexing might be different\n",
        "    real_input=(self.aug_int_data[index][1]) #need to put the data variable. \n",
        "    return blind_input,real_input\n",
        "  \n",
        "  def __len__(self):\n",
        "    return len(self.aug_int_data)\n",
        "  \n"
      ],
      "execution_count": 0,
      "outputs": []
    },
    {
      "cell_type": "code",
      "metadata": {
        "id": "oYa22W8v4P4q",
        "colab_type": "code",
        "colab": {}
      },
      "source": [
        "dataset=listDataset(aug_int_data)"
      ],
      "execution_count": 0,
      "outputs": []
    },
    {
      "cell_type": "markdown",
      "metadata": {
        "id": "vxvqERkfMcso",
        "colab_type": "text"
      },
      "source": [
        "Splitting into training and validation set."
      ]
    },
    {
      "cell_type": "code",
      "metadata": {
        "id": "iS3f9DyuMb8i",
        "colab_type": "code",
        "outputId": "35a50256-75ee-49a2-da6f-464306826fd5",
        "colab": {
          "base_uri": "https://localhost:8080/",
          "height": 68
        }
      },
      "source": [
        "print(\"Splitting the dataloader into training and validation..\\n\")\n",
        "train_size=int(train_split*len(dataset))\n",
        "val_size=len(dataset)-train_size\n",
        "batch_size=1\n",
        "train_dataset, val_dataset=torch.utils.data.random_split(dataset,[train_size,val_size])\n",
        "train_dataloader=torch.utils.data.DataLoader(dataset=train_dataset,\n",
        "                                             batch_size=batch_size,\n",
        "                                             shuffle=True)\n",
        "num_batches=len(train_dataloader)\n",
        "val_dataloader=torch.utils.data.DataLoader(dataset=val_dataset,\n",
        "                                             batch_size=batch_size,\n",
        "                                             shuffle=True)\n",
        "print(\"Length of train dataset :{}, of val dataset:{}\".format(\n",
        "    len(train_dataset),len(val_dataset)\n",
        "))"
      ],
      "execution_count": 233,
      "outputs": [
        {
          "output_type": "stream",
          "text": [
            "Splitting the dataloader into training and validation..\n",
            "\n",
            "Length of train dataset :237580, of val dataset:59396\n"
          ],
          "name": "stdout"
        }
      ]
    },
    {
      "cell_type": "markdown",
      "metadata": {
        "id": "MTP9FKAZNWVU",
        "colab_type": "text"
      },
      "source": [
        "Model"
      ]
    },
    {
      "cell_type": "code",
      "metadata": {
        "id": "NZ26mkA3NV5C",
        "colab_type": "code",
        "colab": {}
      },
      "source": [
        "class Autoencoder(nn.Module):\n",
        "  def __init__(self,input_size,hidden_size,latent_rep_size):\n",
        "    super(Autoencoder,self).__init__()\n",
        "    self.fc1= nn.Linear(input_size,hidden_size)\n",
        "    self.relu1=nn.ReLU()\n",
        "    self.fc2=nn.Linear(hidden_size,latent_rep_size)\n",
        "    self.relu2=nn.ReLU()\n",
        "    self.fc3=nn.Linear(latent_rep_size,hidden_size)\n",
        "    self.relu3=nn.ReLU()\n",
        "    self.fc4= nn.Linear(hidden_size,input_size)\n",
        "    self.t=nn.Tanh()\n",
        "    \n",
        "  def forward(self,x):\n",
        "    #print(x.shape)\n",
        "    out=self.fc1(x)\n",
        "    #out=self.relu1(out)\n",
        "    out=self.fc2(out)\n",
        "    #print(out.shape)\n",
        "    #out=self.relu2(out)\n",
        "    #print(out.shape)\n",
        "    out=self.fc3(out)\n",
        "    #out=self.relu3(out)\n",
        "    out=self.fc4(out)\n",
        "    return self.t(out).abs()"
      ],
      "execution_count": 0,
      "outputs": []
    },
    {
      "cell_type": "code",
      "metadata": {
        "id": "JcV2QltYBdnC",
        "colab_type": "code",
        "colab": {}
      },
      "source": [
        "#parameters\n",
        "lr=0.02\n",
        "beta1=0.5\n",
        "beta2=0.999\n",
        "L1_lambda=1"
      ],
      "execution_count": 0,
      "outputs": []
    },
    {
      "cell_type": "code",
      "metadata": {
        "id": "7ogXHUq6OEcP",
        "colab_type": "code",
        "outputId": "39d04ea8-35d3-45f2-8813-10a8f54b08d4",
        "colab": {
          "base_uri": "https://localhost:8080/",
          "height": 204
        }
      },
      "source": [
        "device = torch.device(\"cuda:0\" if torch.cuda.is_available() else \"cpu\")\n",
        "#device=\"cpu\"\n",
        "print(\"Training on device: \", device)\n",
        "input_size=95\n",
        "hidden_size=55\n",
        "latent_rep_size=15\n",
        "model=Autoencoder(input_size,hidden_size, latent_rep_size).to(device)\n",
        "print(model)\n",
        "\n",
        "#Loss and optimizer\n",
        "criterion=nn.MSELoss().to(device)\n",
        "optimizer=torch.optim.Adam(model.parameters(),lr=lr,betas=(beta1,beta2))"
      ],
      "execution_count": 234,
      "outputs": [
        {
          "output_type": "stream",
          "text": [
            "Training on device:  cuda:0\n",
            "Autoencoder(\n",
            "  (fc1): Linear(in_features=95, out_features=55, bias=True)\n",
            "  (relu1): ReLU()\n",
            "  (fc2): Linear(in_features=55, out_features=15, bias=True)\n",
            "  (relu2): ReLU()\n",
            "  (fc3): Linear(in_features=15, out_features=55, bias=True)\n",
            "  (relu3): ReLU()\n",
            "  (fc4): Linear(in_features=55, out_features=95, bias=True)\n",
            "  (t): Tanh()\n",
            ")\n"
          ],
          "name": "stdout"
        }
      ]
    },
    {
      "cell_type": "code",
      "metadata": {
        "id": "NlZX_oIPX-W4",
        "colab_type": "code",
        "outputId": "70b790e9-693e-41e7-e0a0-bbd7d8121869",
        "colab": {
          "base_uri": "https://localhost:8080/",
          "height": 1000
        }
      },
      "source": [
        "total_step=len(train_dataloader)\n",
        "#model.train()\n",
        "for epoch in range(num_epochs):\n",
        "  for i,(blind_vector,real_vector) in enumerate(train_dataloader):\n",
        "    blind_vector=blind_vector.to(device).float()\n",
        "    real_vector=real_vector.to(device).float() \n",
        "    \n",
        "    #forward pass\n",
        "    #print(real_vector)\n",
        "    outputs=model(blind_vector)\n",
        "    loss=criterion(outputs,real_vector)\n",
        "    \n",
        "    optimizer.zero_grad()\n",
        "    loss.backward()\n",
        "    optimizer.step()\n",
        "    \n",
        "    if(i+1)%10000==0:\n",
        "      print('Epoch [{}/{}], Step[{}/{}],Loss:{:.4f}'\n",
        "           .format(epoch+1,num_epochs,i+1,total_step,loss.item()))"
      ],
      "execution_count": 235,
      "outputs": [
        {
          "output_type": "stream",
          "text": [
            "Epoch [1/5], Step[10000/237580],Loss:0.3491\n",
            "Epoch [1/5], Step[20000/237580],Loss:0.0298\n",
            "Epoch [1/5], Step[30000/237580],Loss:0.3593\n",
            "Epoch [1/5], Step[40000/237580],Loss:0.0611\n",
            "Epoch [1/5], Step[50000/237580],Loss:0.0936\n",
            "Epoch [1/5], Step[60000/237580],Loss:0.1131\n",
            "Epoch [1/5], Step[70000/237580],Loss:0.1200\n",
            "Epoch [1/5], Step[80000/237580],Loss:0.0332\n",
            "Epoch [1/5], Step[90000/237580],Loss:0.1496\n",
            "Epoch [1/5], Step[100000/237580],Loss:0.0927\n",
            "Epoch [1/5], Step[110000/237580],Loss:0.0674\n",
            "Epoch [1/5], Step[120000/237580],Loss:0.2047\n",
            "Epoch [1/5], Step[130000/237580],Loss:0.0845\n",
            "Epoch [1/5], Step[140000/237580],Loss:0.0692\n",
            "Epoch [1/5], Step[150000/237580],Loss:0.0482\n",
            "Epoch [1/5], Step[160000/237580],Loss:0.2314\n",
            "Epoch [1/5], Step[170000/237580],Loss:0.1131\n",
            "Epoch [1/5], Step[180000/237580],Loss:0.0630\n",
            "Epoch [1/5], Step[190000/237580],Loss:0.2732\n",
            "Epoch [1/5], Step[200000/237580],Loss:0.2851\n",
            "Epoch [1/5], Step[210000/237580],Loss:0.2047\n",
            "Epoch [1/5], Step[220000/237580],Loss:0.1157\n",
            "Epoch [1/5], Step[230000/237580],Loss:0.1134\n",
            "Epoch [2/5], Step[10000/237580],Loss:0.1796\n",
            "Epoch [2/5], Step[20000/237580],Loss:0.3351\n",
            "Epoch [2/5], Step[30000/237580],Loss:0.0493\n",
            "Epoch [2/5], Step[40000/237580],Loss:0.1000\n",
            "Epoch [2/5], Step[50000/237580],Loss:0.2178\n",
            "Epoch [2/5], Step[60000/237580],Loss:0.1760\n",
            "Epoch [2/5], Step[70000/237580],Loss:0.3160\n",
            "Epoch [2/5], Step[80000/237580],Loss:0.3562\n",
            "Epoch [2/5], Step[90000/237580],Loss:0.0779\n",
            "Epoch [2/5], Step[100000/237580],Loss:0.1158\n",
            "Epoch [2/5], Step[110000/237580],Loss:0.1884\n",
            "Epoch [2/5], Step[120000/237580],Loss:0.0851\n",
            "Epoch [2/5], Step[130000/237580],Loss:0.0638\n",
            "Epoch [2/5], Step[140000/237580],Loss:0.1726\n",
            "Epoch [2/5], Step[150000/237580],Loss:0.1052\n",
            "Epoch [2/5], Step[160000/237580],Loss:0.1446\n"
          ],
          "name": "stdout"
        },
        {
          "output_type": "error",
          "ename": "KeyboardInterrupt",
          "evalue": "ignored",
          "traceback": [
            "\u001b[0;31m---------------------------------------------------------------------------\u001b[0m",
            "\u001b[0;31mKeyboardInterrupt\u001b[0m                         Traceback (most recent call last)",
            "\u001b[0;32m<ipython-input-235-d11d68944b33>\u001b[0m in \u001b[0;36m<module>\u001b[0;34m()\u001b[0m\n\u001b[1;32m     13\u001b[0m     \u001b[0moptimizer\u001b[0m\u001b[0;34m.\u001b[0m\u001b[0mzero_grad\u001b[0m\u001b[0;34m(\u001b[0m\u001b[0;34m)\u001b[0m\u001b[0;34m\u001b[0m\u001b[0;34m\u001b[0m\u001b[0m\n\u001b[1;32m     14\u001b[0m     \u001b[0mloss\u001b[0m\u001b[0;34m.\u001b[0m\u001b[0mbackward\u001b[0m\u001b[0;34m(\u001b[0m\u001b[0;34m)\u001b[0m\u001b[0;34m\u001b[0m\u001b[0;34m\u001b[0m\u001b[0m\n\u001b[0;32m---> 15\u001b[0;31m     \u001b[0moptimizer\u001b[0m\u001b[0;34m.\u001b[0m\u001b[0mstep\u001b[0m\u001b[0;34m(\u001b[0m\u001b[0;34m)\u001b[0m\u001b[0;34m\u001b[0m\u001b[0;34m\u001b[0m\u001b[0m\n\u001b[0m\u001b[1;32m     16\u001b[0m \u001b[0;34m\u001b[0m\u001b[0m\n\u001b[1;32m     17\u001b[0m     \u001b[0;32mif\u001b[0m\u001b[0;34m(\u001b[0m\u001b[0mi\u001b[0m\u001b[0;34m+\u001b[0m\u001b[0;36m1\u001b[0m\u001b[0;34m)\u001b[0m\u001b[0;34m%\u001b[0m\u001b[0;36m10000\u001b[0m\u001b[0;34m==\u001b[0m\u001b[0;36m0\u001b[0m\u001b[0;34m:\u001b[0m\u001b[0;34m\u001b[0m\u001b[0;34m\u001b[0m\u001b[0m\n",
            "\u001b[0;32m/usr/local/lib/python3.6/dist-packages/torch/optim/adam.py\u001b[0m in \u001b[0;36mstep\u001b[0;34m(self, closure)\u001b[0m\n\u001b[1;32m    101\u001b[0m                     \u001b[0mdenom\u001b[0m \u001b[0;34m=\u001b[0m \u001b[0;34m(\u001b[0m\u001b[0mmax_exp_avg_sq\u001b[0m\u001b[0;34m.\u001b[0m\u001b[0msqrt\u001b[0m\u001b[0;34m(\u001b[0m\u001b[0;34m)\u001b[0m \u001b[0;34m/\u001b[0m \u001b[0mmath\u001b[0m\u001b[0;34m.\u001b[0m\u001b[0msqrt\u001b[0m\u001b[0;34m(\u001b[0m\u001b[0mbias_correction2\u001b[0m\u001b[0;34m)\u001b[0m\u001b[0;34m)\u001b[0m\u001b[0;34m.\u001b[0m\u001b[0madd_\u001b[0m\u001b[0;34m(\u001b[0m\u001b[0mgroup\u001b[0m\u001b[0;34m[\u001b[0m\u001b[0;34m'eps'\u001b[0m\u001b[0;34m]\u001b[0m\u001b[0;34m)\u001b[0m\u001b[0;34m\u001b[0m\u001b[0;34m\u001b[0m\u001b[0m\n\u001b[1;32m    102\u001b[0m                 \u001b[0;32melse\u001b[0m\u001b[0;34m:\u001b[0m\u001b[0;34m\u001b[0m\u001b[0;34m\u001b[0m\u001b[0m\n\u001b[0;32m--> 103\u001b[0;31m                     \u001b[0mdenom\u001b[0m \u001b[0;34m=\u001b[0m \u001b[0;34m(\u001b[0m\u001b[0mexp_avg_sq\u001b[0m\u001b[0;34m.\u001b[0m\u001b[0msqrt\u001b[0m\u001b[0;34m(\u001b[0m\u001b[0;34m)\u001b[0m \u001b[0;34m/\u001b[0m \u001b[0mmath\u001b[0m\u001b[0;34m.\u001b[0m\u001b[0msqrt\u001b[0m\u001b[0;34m(\u001b[0m\u001b[0mbias_correction2\u001b[0m\u001b[0;34m)\u001b[0m\u001b[0;34m)\u001b[0m\u001b[0;34m.\u001b[0m\u001b[0madd_\u001b[0m\u001b[0;34m(\u001b[0m\u001b[0mgroup\u001b[0m\u001b[0;34m[\u001b[0m\u001b[0;34m'eps'\u001b[0m\u001b[0;34m]\u001b[0m\u001b[0;34m)\u001b[0m\u001b[0;34m\u001b[0m\u001b[0;34m\u001b[0m\u001b[0m\n\u001b[0m\u001b[1;32m    104\u001b[0m \u001b[0;34m\u001b[0m\u001b[0m\n\u001b[1;32m    105\u001b[0m                 \u001b[0mstep_size\u001b[0m \u001b[0;34m=\u001b[0m \u001b[0mgroup\u001b[0m\u001b[0;34m[\u001b[0m\u001b[0;34m'lr'\u001b[0m\u001b[0;34m]\u001b[0m \u001b[0;34m/\u001b[0m \u001b[0mbias_correction1\u001b[0m\u001b[0;34m\u001b[0m\u001b[0;34m\u001b[0m\u001b[0m\n",
            "\u001b[0;31mKeyboardInterrupt\u001b[0m: "
          ]
        }
      ]
    },
    {
      "cell_type": "code",
      "metadata": {
        "id": "foG3w6LglRvt",
        "colab_type": "code",
        "colab": {}
      },
      "source": [
        "criterion(model(blind_vector),real_vector)\n",
        "pred=model(blind_vector)"
      ],
      "execution_count": 0,
      "outputs": []
    },
    {
      "cell_type": "code",
      "metadata": {
        "id": "u_eAa0Qlt5_l",
        "colab_type": "code",
        "colab": {
          "base_uri": "https://localhost:8080/",
          "height": 34
        },
        "outputId": "ae97078c-f8c1-4ddd-f002-9fd2bc2ce262"
      },
      "source": [
        "criterion(pred[0][92],real_vector[0][92])"
      ],
      "execution_count": 221,
      "outputs": [
        {
          "output_type": "execute_result",
          "data": {
            "text/plain": [
              "tensor(12996., device='cuda:0', grad_fn=<MseLossBackward>)"
            ]
          },
          "metadata": {
            "tags": []
          },
          "execution_count": 221
        }
      ]
    },
    {
      "cell_type": "code",
      "metadata": {
        "id": "FmJ5I68Lw2VG",
        "colab_type": "code",
        "colab": {
          "base_uri": "https://localhost:8080/",
          "height": 34
        },
        "outputId": "4395b5db-f28b-465c-aa6e-177f336ff81e"
      },
      "source": [
        "def decode_disease(vector):\n",
        "  "
      ],
      "execution_count": 229,
      "outputs": [
        {
          "output_type": "execute_result",
          "data": {
            "text/plain": [
              "tensor(115., device='cuda:0')"
            ]
          },
          "metadata": {
            "tags": []
          },
          "execution_count": 229
        }
      ]
    },
    {
      "cell_type": "code",
      "metadata": {
        "id": "CyzFJc5fABJg",
        "colab_type": "code",
        "colab": {}
      },
      "source": [
        "import pickle\n",
        "print(\"Avg one epoch ptime: %.2f, total %d epochs ptime: %.2f\" % (torch.mean(torch.FloatTensor(train_hist['per_epoch_ptimes'])), train_epoch, total_ptime))\n",
        "  \n",
        "torch.save(G.state_dict(), 'generator_param.pkl')\n",
        "torch.save(D.state_dict(), 'discriminator_param.pkl')\n",
        "with open('train_hist.pkl', 'wb') as f:\n",
        "    pickle.dump(train_hist, f)\n",
        "\n",
        "utils.show_train_hist(train_hist, save=True, path=\"/content/drive/My Drive/Lumentum/NAVA_ocr/\" + 'train_hist.png')"
      ],
      "execution_count": 0,
      "outputs": []
    }
  ]
}