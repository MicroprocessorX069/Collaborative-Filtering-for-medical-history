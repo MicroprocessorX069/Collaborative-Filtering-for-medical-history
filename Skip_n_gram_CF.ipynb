{
  "nbformat": 4,
  "nbformat_minor": 0,
  "metadata": {
    "colab": {
      "name": "Skip n gram CF",
      "version": "0.3.2",
      "provenance": [],
      "collapsed_sections": [
        "RMkeiIMDN9TW"
      ],
      "toc_visible": true,
      "include_colab_link": true
    },
    "kernelspec": {
      "name": "python3",
      "display_name": "Python 3"
    },
    "accelerator": "GPU"
  },
  "cells": [
    {
      "cell_type": "markdown",
      "metadata": {
        "id": "view-in-github",
        "colab_type": "text"
      },
      "source": [
        "<a href=\"https://colab.research.google.com/github/MicroprocessorX069/Collaborative-Filtering-for-medical-history/blob/master/Skip_n_gram_CF.ipynb\" target=\"_parent\"><img src=\"https://colab.research.google.com/assets/colab-badge.svg\" alt=\"Open In Colab\"/></a>"
      ]
    },
    {
      "metadata": {
        "id": "mi7D_wywiFFP",
        "colab_type": "text"
      },
      "cell_type": "markdown",
      "source": [
        "TO DO\n",
        "\n",
        "\n",
        "1.   Plot Model alphabet , specified no.\n",
        "2.   Optimize model\n",
        "3.   Create a pipeline for prediction and implement it\n",
        "\n"
      ]
    },
    {
      "metadata": {
        "id": "nVokp3-wgQuS",
        "colab_type": "text"
      },
      "cell_type": "markdown",
      "source": [
        "##Reading the history of patients\n"
      ]
    },
    {
      "metadata": {
        "id": "agUTEbAGgOd-",
        "colab_type": "text"
      },
      "cell_type": "markdown",
      "source": [
        "##Reading the histo"
      ]
    },
    {
      "metadata": {
        "id": "OCF9dstK29LV",
        "colab_type": "code",
        "colab": {}
      },
      "cell_type": "code",
      "source": [
        "import pandas as pd\n",
        "df=pd.read_csv(\"fcodesbucket.csv\",header=None)\n",
        "df=df.iloc[1:,1:]\n",
        "import math\n",
        "#adjacent elements of original dataset added here in df_adj\n",
        "df_adj=pd.DataFrame()\n",
        "no_past_symptoms=2\n",
        "for x in range(len(df)):\n",
        "  y=0\n",
        "  while y+no_past_symptoms<len(df.iloc[x]) and not(pd.isna(df.iloc[x,y+no_past_symptoms])):\n",
        "    temp=list(df.iloc[x,y:y+no_past_symptoms])\n",
        "    df2 = pd.DataFrame([temp])\n",
        "    df_adj=df_adj.append(df2)\n",
        "    y+=1\n",
        "#df_adj=df_adj.reset_index() # to make the indices of rows as 0,1,2,3...\n",
        "df_adj=df_adj.dropna()\n",
        "df_adj"
      ],
      "execution_count": 0,
      "outputs": []
    },
    {
      "metadata": {
        "id": "NvvHHozokemv",
        "colab_type": "text"
      },
      "cell_type": "markdown",
      "source": [
        "36765 rows, 2 columns  (26927 unique combinations; 73.24 %)\n",
        "\n",
        "Each column has 8.87%, 8.73% of unique codes, respectively.\n",
        "\n",
        "\n",
        "---\n",
        "\n",
        "\n",
        "\n",
        "48.761 % times the letter associated with adjacent symptoms are adjcant alphabetically\n",
        "\n",
        "36.36 % times the letters are same"
      ]
    },
    {
      "metadata": {
        "id": "1JKmE8vwhGpf",
        "colab_type": "code",
        "colab": {}
      },
      "cell_type": "code",
      "source": [
        "#separates letters and numbers for each fcode.\n",
        "\n",
        "df_adj=df_adj.dropna()\n",
        "df_expanded=pd.DataFrame()\n",
        "df_k=pd.DataFrame()\n",
        "for el1,el2 in zip(df_adj[0],df_adj[1]):  \n",
        "  if (el1[1:].isdigit() and el2[1:].isdigit()):\n",
        "    df2 = pd.DataFrame([[   el1[0],str(int(el1[1:])),el2[0],str(int(el2[1:]))  ]])\n",
        "    df_expanded=pd.concat([df_expanded,df2])\n",
        "df_expanded=df_expanded.rename(columns={0:\"l_pCode\",1:\"l_cCode\",2:\"r_pCode\",3:\"r_cCode\"})\n",
        "#print(count*100/len(df_adj))"
      ],
      "execution_count": 0,
      "outputs": []
    },
    {
      "metadata": {
        "id": "XkWOUH2tog-9",
        "colab_type": "text"
      },
      "cell_type": "markdown",
      "source": [
        "Symptoms with 'K' have the maximum occurences\n",
        "\n",
        "8461 Occurences in 37k"
      ]
    },
    {
      "metadata": {
        "id": "pNEwrEQUR5tu",
        "colab_type": "text"
      },
      "cell_type": "markdown",
      "source": [
        "Normalizing the dataset\n"
      ]
    },
    {
      "metadata": {
        "id": "vghAyzB-azDA",
        "colab_type": "text"
      },
      "cell_type": "markdown",
      "source": [
        "3110 unique codes(x) in 32016 pairs\n",
        "\n",
        "Nomenclature for the dataset\n",
        "\n",
        "All variable named with underscore\n",
        "All functions named with Camel Casing\n",
        "1.   Code on left: x_Code; right: y_Code, unique_xCode, n_unique_xCodes\n",
        "2.   parent_code: x_pCode; y_pCode, unique_x_pCode, n_unique_x_pCode\n",
        "3.   Child: x_cCode; y_cCode\n",
        "4. \n",
        "\n",
        "\n"
      ]
    },
    {
      "metadata": {
        "id": "jorHYLFlZ3Rr",
        "colab_type": "text"
      },
      "cell_type": "markdown",
      "source": [
        "##Set creation"
      ]
    },
    {
      "metadata": {
        "id": "20zTNX_3Z22m",
        "colab_type": "code",
        "colab": {}
      },
      "cell_type": "code",
      "source": [
        "unique_l_pCode=list(df_expanded.iloc[:,0].drop_duplicates())\n",
        "n_unique_l_pCode=len(unique_l_pCode)\n",
        "unique_l_cCode=list(df_expanded.iloc[:,1].drop_duplicates())\n",
        "n_unique_l_cCode=len(unique_l_cCode)\n",
        "unique_r_pCode=list(df_expanded.iloc[:,2].drop_duplicates())\n",
        "n_unique_r_pCode=len(unique_r_pCode)\n",
        "\n",
        "print(n_unique_l_cCode)\n",
        "df_llr=df_expanded.iloc[:,0:3]\n",
        "df_llr=df_llr.rename(columns={0:\"l_pCode\",1:\"l_cCode\",2:\"r_pCode\"})"
      ],
      "execution_count": 0,
      "outputs": []
    },
    {
      "metadata": {
        "id": "RMkeiIMDN9TW",
        "colab_type": "text"
      },
      "cell_type": "markdown",
      "source": [
        "##Splitting Data respect to each attribute"
      ]
    },
    {
      "metadata": {
        "id": "3zf5m9vCN9Dt",
        "colab_type": "code",
        "colab": {}
      },
      "cell_type": "code",
      "source": [
        "h=df_adj.shape[1]\n",
        "v=df_adj.shape[0]\n",
        "n_unique=len(df_adj.iloc[:,0].drop_duplicates())\n",
        "print(n_unique)\n",
        "df_sorted=[]\n",
        "for i in range(n_unique):\n",
        "  searchCode=df_adj.iloc[i,0]\n",
        "  processedData=[]\n",
        "  processedLabel=[]\n",
        "  temp=[]\n",
        "  for j in range(v):\n",
        "    if df_adj.iloc[j,0]==searchCode:\n",
        "      processedData.append(searchCode)\n",
        "      processedLabel.append(df_adj.iloc[j,1])\n",
        "      temp.append([searchCode,df_adj.iloc[j,1]])\n",
        "      \n",
        "  df_sorted.append(temp)\n",
        "df_sorted    "
      ],
      "execution_count": 0,
      "outputs": []
    },
    {
      "metadata": {
        "id": "QWgKgSNV6-1G",
        "colab_type": "code",
        "colab": {}
      },
      "cell_type": "code",
      "source": [
        "## Saving as csv (Optional)\n",
        "import pandas as pd \n",
        "pd.DataFrame(np.array(df_sorted)).to_csv(\"df_sorted.csv\")"
      ],
      "execution_count": 0,
      "outputs": []
    },
    {
      "metadata": {
        "id": "R9uGo_DHrhwE",
        "colab_type": "code",
        "colab": {}
      },
      "cell_type": "code",
      "source": [
        "import pandas as pd\n",
        "df_sorted=pd.read_csv(\"df_sorted.csv\",header=None)\n",
        "df_sorted\n",
        "#df_so=df.iloc[1:,1:]"
      ],
      "execution_count": 0,
      "outputs": []
    },
    {
      "metadata": {
        "id": "xpqeeDSGALxw",
        "colab_type": "text"
      },
      "cell_type": "markdown",
      "source": [
        "32016 rows,\n",
        "\n",
        "3110 unique symptoms in x\n",
        "\n",
        "3069 unique symptoms in y"
      ]
    },
    {
      "metadata": {
        "id": "SopxvawPRlY0",
        "colab_type": "code",
        "colab": {}
      },
      "cell_type": "code",
      "source": [
        "df_norm = (df_expanded - df_expanded.mean()) / (df_expanded.max() - df_expanded.min())"
      ],
      "execution_count": 0,
      "outputs": []
    },
    {
      "metadata": {
        "id": "4urqIkjEf6vG",
        "colab_type": "text"
      },
      "cell_type": "markdown",
      "source": [
        "##Model 1 : Embeddings for parent codes"
      ]
    },
    {
      "metadata": {
        "id": "pfK2gcJLiNLJ",
        "colab_type": "text"
      },
      "cell_type": "markdown",
      "source": [
        "Setting up the data\n",
        "\n",
        "X has a parent code and child code\n",
        "Y has a parent code\n",
        "\n",
        "All values are categorical hence converted to one hot encodings"
      ]
    },
    {
      "metadata": {
        "id": "OdOUiyIUgC8P",
        "colab_type": "code",
        "outputId": "90f8a7af-f4ad-45ca-fab6-fc445ad6f50d",
        "colab": {
          "base_uri": "https://localhost:8080/",
          "height": 34
        }
      },
      "cell_type": "code",
      "source": [
        "\n",
        "processedData=pd.get_dummies(df_llr.iloc[:,0:2])\n",
        "processedLabel=pd.get_dummies(df_llr.iloc[:,2])\n",
        "processedData.shape\n",
        "processedLabel.shape"
      ],
      "execution_count": 0,
      "outputs": [
        {
          "output_type": "execute_result",
          "data": {
            "text/plain": [
              "(32012, 20)"
            ]
          },
          "metadata": {
            "tags": []
          },
          "execution_count": 27
        }
      ]
    },
    {
      "metadata": {
        "id": "dxOevkbzoWq2",
        "colab_type": "code",
        "colab": {}
      },
      "cell_type": "code",
      "source": [
        "processedData.iloc[0]"
      ],
      "execution_count": 0,
      "outputs": []
    },
    {
      "metadata": {
        "id": "2MENGUWulQiQ",
        "colab_type": "code",
        "outputId": "695c3b88-a0ad-4ea0-eb77-8ab352c48bed",
        "colab": {
          "base_uri": "https://localhost:8080/",
          "height": 1037
        }
      },
      "cell_type": "code",
      "source": [
        "import tensorflow as tf\n",
        "import numpy as np\n",
        "pAttributes=[]\n",
        "for unique_pCode in unique_l_pCode:\n",
        "  print(\"For unique code: \"+ unique_pCode)\n",
        "  df_model1_data=pd.DataFrame()\n",
        "  df_model1_label=pd.DataFrame()\n",
        "  \n",
        "  #Extracting all rows having same specific left parent code, suppose 'H'\n",
        "  \n",
        "  for row in range(df_llr.shape[0]):\n",
        "     if df_llr.iloc[row,0] == unique_pCode:\n",
        "           df_model1_data=df_model1_data.append(processedData.iloc[row],ignore_index=True)\n",
        "           df_model1_label=df_model1_label.append(processedLabel.iloc[row],ignore_index=True)\n",
        "  \n",
        "  layer1 = 15\n",
        "  validation_splitt=0 \n",
        "  Activation_function = tf.nn.relu \n",
        "  loss_function = 'binary_crossentropy'\n",
        "  optimizer_used = 'Adam'\n",
        "  no_epochs= 500\n",
        "\n",
        "  import tensorflow as tf\n",
        "  from tensorflow import nn\n",
        "  nodes_in_output_layer=df_model1_label.shape[1]\n",
        "  input_size=df_model1_data.shape[1]\n",
        "\n",
        "  model=tf.keras.models.Sequential()\n",
        "\n",
        "  model.add(tf.keras.layers.Dense(layer1,activation=Activation_function,input_dim=input_size))\n",
        "  model.add(tf.keras.layers.Dense(nodes_in_output_layer, activation=tf.nn.softmax))\n",
        "                                                                             # Optimizer: Algorithm to minimize the error/loss by updating weights to improve the training of the model. e.g.\n",
        "  model.compile(optimizer=optimizer_used, loss=loss_function, metrics=['accuracy'])\n",
        "  #model.summary()\n",
        "  history=model.fit(df_model1_data, df_model1_label, epochs= no_epochs,verbose=0)\n",
        "  print(model.evaluate(df_model1_data,df_model1_label))\n",
        "  #getting weights and appending to new dataset pAttributes\n",
        "  temp=[unique_pCode]\n",
        "  temp+=np.ndarray.tolist(np.ndarray.flatten(model.layers[0].get_weights()[0]))\n",
        "  pAttributes.append(temp)\n",
        "        \n",
        "                                  "
      ],
      "execution_count": 0,
      "outputs": [
        {
          "output_type": "stream",
          "text": [
            "For unique code: H\n",
            "702/702 [==============================] - 0s 279us/sample - loss: 0.0935 - acc: 0.9599\n",
            "[0.0934923812959269, 0.95990026]\n",
            "For unique code: R\n",
            "5600/5600 [==============================] - 1s 112us/sample - loss: 0.1220 - acc: 0.9543\n",
            "[0.12203805106026785, 0.95432174]\n",
            "For unique code: M\n",
            "2810/2810 [==============================] - 0s 147us/sample - loss: 0.0924 - acc: 0.9601\n",
            "[0.09237912658376626, 0.9601248]\n",
            "For unique code: I\n",
            "2111/2111 [==============================] - 0s 190us/sample - loss: 0.1010 - acc: 0.9567\n",
            "[0.10100604839400622, 0.95667934]\n",
            "For unique code: F\n",
            "3811/3811 [==============================] - 1s 146us/sample - loss: 0.1223 - acc: 0.9583\n",
            "[0.12232743871865764, 0.95825243]\n",
            "For unique code: T\n",
            "2227/2227 [==============================] - 0s 174us/sample - loss: 0.1064 - acc: 0.9572\n",
            "[0.10639931802852409, 0.9571844]\n",
            "For unique code: L\n",
            "664/664 [==============================] - 0s 381us/sample - loss: 0.1026 - acc: 0.9575\n",
            "[0.10257285555084068, 0.9575302]\n",
            "For unique code: K\n",
            "4869/4869 [==============================] - 1s 134us/sample - loss: 0.1062 - acc: 0.9585\n",
            "[0.10624222970640519, 0.9585028]\n",
            "For unique code: Z\n",
            "1434/1434 [==============================] - 0s 241us/sample - loss: 0.1185 - acc: 0.9538\n",
            "[0.11850021391940749, 0.95383555]\n",
            "For unique code: N\n",
            "2242/2242 [==============================] - 0s 184us/sample - loss: 0.1166 - acc: 0.9531\n",
            "[0.11656773885268383, 0.95309997]\n",
            "For unique code: S\n",
            "1763/1763 [==============================] - 0s 229us/sample - loss: 0.0934 - acc: 0.9583\n",
            "[0.09342044192539042, 0.95825285]\n",
            "For unique code: E\n",
            "266/266 [==============================] - 0s 1ms/sample - loss: 0.0937 - acc: 0.9607\n",
            "[0.09366527703919805, 0.9607142]\n",
            "For unique code: G\n",
            "780/780 [==============================] - 0s 456us/sample - loss: 0.0786 - acc: 0.9651\n",
            "[0.07864299107056398, 0.9651281]\n",
            "For unique code: D\n",
            "623/623 [==============================] - 0s 622us/sample - loss: 0.1109 - acc: 0.9572\n",
            "[0.11085836310687072, 0.95722306]\n",
            "For unique code: J\n",
            "1139/1139 [==============================] - 0s 380us/sample - loss: 0.1075 - acc: 0.9558\n",
            "[0.1074523560513102, 0.95575064]\n",
            "For unique code: C\n",
            "402/402 [==============================] - 0s 974us/sample - loss: 0.0915 - acc: 0.9634\n",
            "[0.09153805269085946, 0.9634327]\n",
            "For unique code: O\n",
            "432/432 [==============================] - 0s 897us/sample - loss: 0.0738 - acc: 0.9694\n",
            "[0.07375664043205755, 0.9694445]\n",
            "For unique code: B\n",
            "56/56 [==============================] - 0s 6ms/sample - loss: 0.0908 - acc: 0.9643\n",
            "[0.09084910899400711, 0.96428573]\n",
            "For unique code: Q\n",
            "40/40 [==============================] - 0s 9ms/sample - loss: 0.0258 - acc: 0.9875\n",
            "[0.025815573707222938, 0.9875]\n",
            "For unique code: A\n",
            "41/41 [==============================] - 0s 9ms/sample - loss: 0.1008 - acc: 0.9598\n",
            "[0.1007989187066148, 0.9597561]\n"
          ],
          "name": "stdout"
        }
      ]
    },
    {
      "metadata": {
        "id": "3flIrR3K5XmD",
        "colab_type": "code",
        "colab": {}
      },
      "cell_type": "code",
      "source": [
        "import csv\n",
        "\n",
        "\n",
        "with open('pAttributes.csv', 'w') as csvFile:\n",
        "    writer = csv.writer(csvFile)\n",
        "    writer.writerows(pAttributes)\n",
        "\n",
        "csvFile.close()"
      ],
      "execution_count": 0,
      "outputs": []
    },
    {
      "metadata": {
        "id": "nd00e9phDOkO",
        "colab_type": "code",
        "colab": {}
      },
      "cell_type": "code",
      "source": [
        "from google.colab import files\n",
        "files.download('pAttributes.csv') "
      ],
      "execution_count": 0,
      "outputs": []
    },
    {
      "metadata": {
        "id": "4ewV5emjXAYT",
        "colab_type": "text"
      },
      "cell_type": "markdown",
      "source": [
        "## Model 2: Embeddings of child codes\n"
      ]
    },
    {
      "metadata": {
        "id": "syQE1YXyXQzB",
        "colab_type": "text"
      },
      "cell_type": "markdown",
      "source": [
        "Converting data to one Hot Encoding\n"
      ]
    },
    {
      "metadata": {
        "id": "0w07Aj7wW_9W",
        "colab_type": "code",
        "colab": {}
      },
      "cell_type": "code",
      "source": [
        "processedData=pd.get_dummies(df_expanded.iloc[:,0:2])\n",
        "processedLabel=pd.get_dummies(df_expanded.iloc[:,2:4])\n",
        "processedData.shape\n",
        "#processedLabel.shape"
      ],
      "execution_count": 0,
      "outputs": []
    },
    {
      "metadata": {
        "id": "xdIrtzINt-sg",
        "colab_type": "code",
        "colab": {}
      },
      "cell_type": "code",
      "source": [
        "import tensorflow as tf\n",
        "import numpy as np\n",
        "from tensorflow import nn\n",
        "cAttributes=[]\n",
        "for unique_pCode in unique_l_pCode:\n",
        "  l_code_data=pd.DataFrame()\n",
        "  r_code_label=pd.DataFrame()\n",
        "\n",
        "  #Extracting all rows having same specific left parent code, suppose 'H'\n",
        "\n",
        "  for row in range(df_expanded.shape[0]):\n",
        "     if df_expanded.iloc[row,0] == unique_pCode:\n",
        "           l_code_data=l_code_data.append(df_expanded.iloc[row,0:2],ignore_index=True)\n",
        "           r_code_label=r_code_label.append(df_expanded.iloc[row,2:4],ignore_index=True)\n",
        "\n",
        "  unique_l_cCode=l_code_data.iloc[:,0].drop_duplicates()\n",
        "  print(\"Unique Child Codes for \"+ unique_pCode+ \": \"+ str(unique_l_cCode.shape[0]))\n",
        "\n",
        "  for unique_cCode in unique_l_cCode:\n",
        "      print(\"For unique pcode: \"+ unique_pCode+\", unique ccode: \"+ unique_cCode)\n",
        "      df_model2_data=pd.DataFrame()\n",
        "      df_model2_label=pd.DataFrame()\n",
        "\n",
        "      #Extracting all rows having same specific left parent code, suppose 'H'\n",
        "\n",
        "      for row in range(df_expanded.shape[0]):\n",
        "         if df_expanded.iloc[row,0] == unique_pCode and df_expanded.iloc[row,1]==unique_cCode:\n",
        "               df_model2_data=df_model2_data.append(processedData.iloc[row],ignore_index=True)\n",
        "               df_model2_label=df_model2_label.append(processedLabel.iloc[row],ignore_index=True)\n",
        "\n",
        "      print(df_model2_label.shape)\n",
        "      layer1 = 15\n",
        "      validation_splitt=0 \n",
        "      Activation_function = tf.nn.relu \n",
        "      loss_function = 'binary_crossentropy'\n",
        "      optimizer_used = 'Adam'\n",
        "      no_epochs= 200\n",
        "\n",
        "      import tensorflow as tf\n",
        "      from tensorflow import nn\n",
        "      nodes_in_output_layer=df_model2_label.shape[1]\n",
        "      input_size=df_model2_data.shape[1]\n",
        "\n",
        "      model=tf.keras.models.Sequential()\n",
        "\n",
        "      model.add(tf.keras.layers.Dense(layer1,activation=Activation_function,input_dim=input_size))\n",
        "      model.add(tf.keras.layers.Dense(nodes_in_output_layer, activation=tf.nn.softmax))                                                                               \n",
        "      model.compile(optimizer=optimizer_used, loss=loss_function, metrics=['accuracy'])\n",
        "      #model.summary()\n",
        "      history=model.fit(df_model2_data, df_model2_label, epochs= no_epochs,verbose=0,validation_split=0)\n",
        "      print(model.evaluate(df_model2_data,df_model2_label))\n",
        "      #getting weights and appending to new dataset pAttributes\n",
        "      temp=[unique_pCode,unique_cCode]\n",
        "      temp+=np.ndarray.tolist(np.ndarray.flatten(model.layers[0].get_weights()[0]))\n",
        "      cAttributes.append(temp)\n"
      ],
      "execution_count": 0,
      "outputs": []
    },
    {
      "metadata": {
        "id": "9G1KCI5n3soO",
        "colab_type": "code",
        "colab": {}
      },
      "cell_type": "code",
      "source": [
        "import csv\n",
        "\n",
        "\n",
        "with open('cAttributes.csv', 'w') as csvFile:\n",
        "    writer = csv.writer(csvFile)\n",
        "    writer.writerows(cAttributes)\n",
        "\n",
        "csvFile.close()"
      ],
      "execution_count": 0,
      "outputs": []
    },
    {
      "metadata": {
        "id": "x18SjX0w4QNW",
        "colab_type": "code",
        "colab": {}
      },
      "cell_type": "code",
      "source": [
        "from google.colab import files\n",
        "files.download('cAttributes.csv') "
      ],
      "execution_count": 0,
      "outputs": []
    },
    {
      "metadata": {
        "id": "XtP5vaYvh0Xl",
        "colab_type": "code",
        "outputId": "341dd242-8f91-4866-c02d-fca27a6a416f",
        "colab": {
          "base_uri": "https://localhost:8080/",
          "height": 2068
        }
      },
      "cell_type": "code",
      "source": [
        "unique_pCode='H'\n",
        "l_code_data=pd.DataFrame()\n",
        "r_code_label=pd.DataFrame()\n",
        "\n",
        "#Extracting all rows having same specific left parent code, suppose 'H'\n",
        "\n",
        "for row in range(df_expanded.shape[0]):\n",
        "   if df_expanded.iloc[row,0] == unique_pCode:\n",
        "         l_code_data=l_code_data.append(df_expanded.iloc[row,0:2],ignore_index=True)\n",
        "         r_code_label=r_code_label.append(df_expanded.iloc[row,2:4],ignore_index=True)\n",
        "         \n",
        "unique_l_cCode=l_code_data.iloc[:,0].drop_duplicates()\n",
        "print(\"Unique Child Codes for \"+ unique_pCode+ \": \"+ str(unique_l_cCode.shape[0]))\n",
        "\n",
        "for unique_cCode in unique_l_cCode:\n",
        "  print(\"For unique pcode: \"+ unique_pCode+\", unique ccode: \"+ unique_cCode)\n",
        "  df_model2_data=pd.DataFrame()\n",
        "  df_model2_label=pd.DataFrame()\n",
        "\n",
        "  #Extracting all rows having same specific left parent code, suppose 'H'\n",
        "\n",
        "  for row in range(df_expanded.shape[0]):\n",
        "     if df_expanded.iloc[row,0] == unique_pCode and df_expanded.iloc[row,1]==unique_cCode:\n",
        "           df_model2_data=df_model2_data.append(processedData.iloc[row],ignore_index=True)\n",
        "           df_model2_label=df_model2_label.append(processedLabel.iloc[row],ignore_index=True)\n",
        "\n",
        "  print(df_model2_data.shape)"
      ],
      "execution_count": 0,
      "outputs": [
        {
          "output_type": "stream",
          "text": [
            "Unique Child Codes for H: 131\n",
            "For unique pcode: H, unique ccode: 269\n",
            "(165, 1310)\n",
            "For unique pcode: H, unique ccode: 921\n",
            "(9, 1310)\n",
            "For unique pcode: H, unique ccode: 813\n",
            "(2, 1310)\n",
            "For unique pcode: H, unique ccode: 532\n",
            "(7, 1310)\n",
            "For unique pcode: H, unique ccode: 348\n",
            "(3, 1310)\n",
            "For unique pcode: H, unique ccode: 669\n",
            "(10, 1310)\n",
            "For unique pcode: H, unique ccode: 250\n",
            "(20, 1310)\n",
            "For unique pcode: H, unique ccode: 18\n",
            "(1, 1310)\n",
            "For unique pcode: H, unique ccode: 905\n",
            "(1, 1310)\n",
            "For unique pcode: H, unique ccode: 653\n",
            "(7, 1310)\n",
            "For unique pcode: H, unique ccode: 612\n",
            "(6, 1310)\n",
            "For unique pcode: H, unique ccode: 42\n",
            "(11, 1310)\n",
            "For unique pcode: H, unique ccode: 41\n",
            "(6, 1310)\n",
            "For unique pcode: H, unique ccode: 28\n",
            "(25, 1310)\n",
            "For unique pcode: H, unique ccode: 919\n",
            "(10, 1310)\n",
            "For unique pcode: H, unique ccode: 358\n",
            "(12, 1310)\n",
            "For unique pcode: H, unique ccode: 504\n",
            "(1, 1310)\n",
            "For unique pcode: H, unique ccode: 259\n",
            "(14, 1310)\n",
            "For unique pcode: H, unique ccode: 332\n",
            "(13, 1310)\n",
            "For unique pcode: H, unique ccode: 23\n",
            "(4, 1310)\n",
            "For unique pcode: H, unique ccode: 251\n",
            "(31, 1310)\n",
            "For unique pcode: H, unique ccode: 1\n",
            "(22, 1310)\n",
            "For unique pcode: H, unique ccode: 26\n",
            "(6, 1310)\n",
            "For unique pcode: H, unique ccode: 360\n",
            "(3, 1310)\n",
            "For unique pcode: H, unique ccode: 431\n",
            "(10, 1310)\n",
            "For unique pcode: H, unique ccode: 0\n",
            "(1, 1310)\n",
            "For unique pcode: H, unique ccode: 48\n",
            "(1, 1310)\n",
            "For unique pcode: H, unique ccode: 618\n",
            "(6, 1310)\n",
            "For unique pcode: H, unique ccode: 439\n",
            "(3, 1310)\n",
            "For unique pcode: H, unique ccode: 438\n",
            "(1, 1310)\n",
            "For unique pcode: H, unique ccode: 401\n",
            "(2, 1310)\n",
            "For unique pcode: H, unique ccode: 264\n",
            "(10, 1310)\n",
            "For unique pcode: H, unique ccode: 830\n",
            "(5, 1310)\n",
            "For unique pcode: H, unique ccode: 330\n",
            "(10, 1310)\n",
            "For unique pcode: H, unique ccode: 538\n",
            "(6, 1310)\n",
            "For unique pcode: H, unique ccode: 21\n",
            "(3, 1310)\n",
            "For unique pcode: H, unique ccode: 839\n",
            "(1, 1310)\n",
            "For unique pcode: H, unique ccode: 531\n",
            "(3, 1310)\n",
            "For unique pcode: H, unique ccode: 333\n",
            "(6, 1310)\n",
            "For unique pcode: H, unique ccode: 650\n",
            "(2, 1310)\n",
            "For unique pcode: H, unique ccode: 405\n",
            "(1, 1310)\n",
            "For unique pcode: H, unique ccode: 314\n",
            "(1, 1310)\n",
            "For unique pcode: H, unique ccode: 729\n",
            "(10, 1310)\n",
            "For unique pcode: H, unique ccode: 29\n",
            "(12, 1310)\n",
            "For unique pcode: H, unique ccode: 402\n",
            "(5, 1310)\n",
            "For unique pcode: H, unique ccode: 350\n",
            "(1, 1310)\n",
            "For unique pcode: H, unique ccode: 10\n"
          ],
          "name": "stdout"
        },
        {
          "output_type": "error",
          "ename": "AttributeError",
          "evalue": "ignored",
          "traceback": [
            "\u001b[0;31m---------------------------------------------------------------------------\u001b[0m",
            "\u001b[0;31mAttributeError\u001b[0m                            Traceback (most recent call last)",
            "\u001b[0;32m<ipython-input-31-c747b891ea0d>\u001b[0m in \u001b[0;36m<module>\u001b[0;34m()\u001b[0m\n\u001b[1;32m     21\u001b[0m \u001b[0;34m\u001b[0m\u001b[0m\n\u001b[1;32m     22\u001b[0m   \u001b[0;32mfor\u001b[0m \u001b[0mrow\u001b[0m \u001b[0;32min\u001b[0m \u001b[0mrange\u001b[0m\u001b[0;34m(\u001b[0m\u001b[0mdf_expanded\u001b[0m\u001b[0;34m.\u001b[0m\u001b[0mshape\u001b[0m\u001b[0;34m[\u001b[0m\u001b[0;36m0\u001b[0m\u001b[0;34m]\u001b[0m\u001b[0;34m)\u001b[0m\u001b[0;34m:\u001b[0m\u001b[0;34m\u001b[0m\u001b[0;34m\u001b[0m\u001b[0m\n\u001b[0;32m---> 23\u001b[0;31m      \u001b[0;32mif\u001b[0m \u001b[0mdf_expanded\u001b[0m\u001b[0;34m.\u001b[0m\u001b[0miloc\u001b[0m\u001b[0;34m[\u001b[0m\u001b[0mrow\u001b[0m\u001b[0;34m,\u001b[0m\u001b[0;36m0\u001b[0m\u001b[0;34m]\u001b[0m \u001b[0;34m==\u001b[0m \u001b[0munique_pCode\u001b[0m \u001b[0;32mand\u001b[0m \u001b[0mdf_expanded\u001b[0m\u001b[0;34m.\u001b[0m\u001b[0miloc\u001b[0m\u001b[0;34m[\u001b[0m\u001b[0mrow\u001b[0m\u001b[0;34m,\u001b[0m\u001b[0;36m1\u001b[0m\u001b[0;34m]\u001b[0m\u001b[0;34m==\u001b[0m\u001b[0munique_cCode\u001b[0m\u001b[0;34m:\u001b[0m\u001b[0;34m\u001b[0m\u001b[0;34m\u001b[0m\u001b[0m\n\u001b[0m\u001b[1;32m     24\u001b[0m            \u001b[0mdf_model2_data\u001b[0m\u001b[0;34m=\u001b[0m\u001b[0mdf_model2_data\u001b[0m\u001b[0;34m.\u001b[0m\u001b[0mappend\u001b[0m\u001b[0;34m(\u001b[0m\u001b[0mprocessedData\u001b[0m\u001b[0;34m.\u001b[0m\u001b[0miloc\u001b[0m\u001b[0;34m[\u001b[0m\u001b[0mrow\u001b[0m\u001b[0;34m]\u001b[0m\u001b[0;34m,\u001b[0m\u001b[0mignore_index\u001b[0m\u001b[0;34m=\u001b[0m\u001b[0;32mTrue\u001b[0m\u001b[0;34m)\u001b[0m\u001b[0;34m\u001b[0m\u001b[0;34m\u001b[0m\u001b[0m\n\u001b[1;32m     25\u001b[0m            \u001b[0mdf_model2_label\u001b[0m\u001b[0;34m=\u001b[0m\u001b[0mdf_model2_label\u001b[0m\u001b[0;34m.\u001b[0m\u001b[0mappend\u001b[0m\u001b[0;34m(\u001b[0m\u001b[0mprocessedLabel\u001b[0m\u001b[0;34m.\u001b[0m\u001b[0miloc\u001b[0m\u001b[0;34m[\u001b[0m\u001b[0mrow\u001b[0m\u001b[0;34m]\u001b[0m\u001b[0;34m,\u001b[0m\u001b[0mignore_index\u001b[0m\u001b[0;34m=\u001b[0m\u001b[0;32mTrue\u001b[0m\u001b[0;34m)\u001b[0m\u001b[0;34m\u001b[0m\u001b[0;34m\u001b[0m\u001b[0m\n",
            "\u001b[0;32m/usr/local/lib/python3.6/dist-packages/pandas/core/indexing.py\u001b[0m in \u001b[0;36m__getitem__\u001b[0;34m(self, key)\u001b[0m\n\u001b[1;32m   1365\u001b[0m             \u001b[0;32mexcept\u001b[0m \u001b[0;34m(\u001b[0m\u001b[0mKeyError\u001b[0m\u001b[0;34m,\u001b[0m \u001b[0mIndexError\u001b[0m\u001b[0;34m)\u001b[0m\u001b[0;34m:\u001b[0m\u001b[0;34m\u001b[0m\u001b[0;34m\u001b[0m\u001b[0m\n\u001b[1;32m   1366\u001b[0m                 \u001b[0;32mpass\u001b[0m\u001b[0;34m\u001b[0m\u001b[0;34m\u001b[0m\u001b[0m\n\u001b[0;32m-> 1367\u001b[0;31m             \u001b[0;32mreturn\u001b[0m \u001b[0mself\u001b[0m\u001b[0;34m.\u001b[0m\u001b[0m_getitem_tuple\u001b[0m\u001b[0;34m(\u001b[0m\u001b[0mkey\u001b[0m\u001b[0;34m)\u001b[0m\u001b[0;34m\u001b[0m\u001b[0;34m\u001b[0m\u001b[0m\n\u001b[0m\u001b[1;32m   1368\u001b[0m         \u001b[0;32melse\u001b[0m\u001b[0;34m:\u001b[0m\u001b[0;34m\u001b[0m\u001b[0;34m\u001b[0m\u001b[0m\n\u001b[1;32m   1369\u001b[0m             \u001b[0;31m# we by definition only have the 0th axis\u001b[0m\u001b[0;34m\u001b[0m\u001b[0;34m\u001b[0m\u001b[0;34m\u001b[0m\u001b[0m\n",
            "\u001b[0;32m/usr/local/lib/python3.6/dist-packages/pandas/core/indexing.py\u001b[0m in \u001b[0;36m_getitem_tuple\u001b[0;34m(self, tup)\u001b[0m\n\u001b[1;32m   1754\u001b[0m \u001b[0;34m\u001b[0m\u001b[0m\n\u001b[1;32m   1755\u001b[0m             \u001b[0;31m# if the dim was reduced, then pass a lower-dim the next time\u001b[0m\u001b[0;34m\u001b[0m\u001b[0;34m\u001b[0m\u001b[0;34m\u001b[0m\u001b[0m\n\u001b[0;32m-> 1756\u001b[0;31m             \u001b[0;32mif\u001b[0m \u001b[0mretval\u001b[0m\u001b[0;34m.\u001b[0m\u001b[0mndim\u001b[0m \u001b[0;34m<\u001b[0m \u001b[0mself\u001b[0m\u001b[0;34m.\u001b[0m\u001b[0mndim\u001b[0m\u001b[0;34m:\u001b[0m\u001b[0;34m\u001b[0m\u001b[0;34m\u001b[0m\u001b[0m\n\u001b[0m\u001b[1;32m   1757\u001b[0m                 \u001b[0maxis\u001b[0m \u001b[0;34m-=\u001b[0m \u001b[0;36m1\u001b[0m\u001b[0;34m\u001b[0m\u001b[0;34m\u001b[0m\u001b[0m\n\u001b[1;32m   1758\u001b[0m \u001b[0;34m\u001b[0m\u001b[0m\n",
            "\u001b[0;31mAttributeError\u001b[0m: 'str' object has no attribute 'ndim'"
          ]
        }
      ]
    },
    {
      "metadata": {
        "id": "rmPl-wkmibvs",
        "colab_type": "code",
        "colab": {}
      },
      "cell_type": "code",
      "source": [
        "#@title Parameters for the model { run: \"auto\" } \n",
        "\n",
        "import tensorflow as tf\n",
        "#run:auto command makes the code block run in real time. Whenever the user amends the input, the block runs automatically for the new set of input.\n",
        "\n",
        "# No. of nodes in hidden layer 1\n",
        "layer1 = 40 #@param {type:\"integer\"}\n",
        "\n",
        "validation_splitt=0 #@param{type:\"slider\",min:0.000,max:1.000,step:0.05}\n",
        "Activation_function = tf.nn.relu #@param [\"relu\", \"relu6\", \"crelu\", \"elu\", \"selu\", \"softplus\", \"softsign\", \"dropout\", \"bias_add\", \"sigmoid\", \"tanh\"]\n",
        "loss_function = 'kullback_leibler_divergence' #@param [\"categorical_crossentropy\", \"sparse_categorical_crossentropy\", \"binary_crossentropy\",\"kullback_leibler_divergence\",\"poisson\",\"cosine_proximity\"]\n",
        "optimizer_used = 'Adam' #@param [\"SGD\", \"RMSprop\", \"Adagrad\",\"Adadelta\",\"Adam\",\"Adamax\",\"Nadam\",\"TFOptimizer\"]"
      ],
      "execution_count": 0,
      "outputs": []
    },
    {
      "metadata": {
        "id": "OWgTos9Aj4BD",
        "colab_type": "code",
        "outputId": "0ca6cc8b-85e7-4e8c-8204-6a8ceb9a0684",
        "colab": {
          "base_uri": "https://localhost:8080/",
          "height": 1187
        }
      },
      "cell_type": "code",
      "source": [
        "#@title Parametres for the model { run: \"auto\" }\n",
        "no_epochs=302 #@param{type:\"slider\",min:0,max:10000,step:200}\n",
        "\n",
        "import tensorflow as tf\n",
        "from tensorflow import nn\n",
        "nodes_in_output_layer=processedLabel.shape[1]\n",
        "input_size=processedData.shape[1]\n",
        "\n",
        "model=tf.keras.models.Sequential()\n",
        "\n",
        "model.add(tf.keras.layers.Dense(layer1,activation=Activation_function,input_dim=input_size))\n",
        "model.add(tf.keras.layers.Dense(nodes_in_output_layer, activation=tf.nn.softmax))\n",
        "                                                                           # Optimizer: Algorithm to minimize the error/loss by updating weights to improve the training of the model. e.g.\n",
        "model.compile(optimizer=optimizer_used, loss=loss_function, metrics=['accuracy'])\n",
        "model.summary()\n",
        "history=model.fit(processedData, processedLabel, epochs= no_epochs)\n"
      ],
      "execution_count": 0,
      "outputs": [
        {
          "output_type": "stream",
          "text": [
            "WARNING:tensorflow:From /usr/local/lib/python3.6/dist-packages/tensorflow/python/ops/resource_variable_ops.py:435: colocate_with (from tensorflow.python.framework.ops) is deprecated and will be removed in a future version.\n",
            "Instructions for updating:\n",
            "Colocations handled automatically by placer.\n",
            "_________________________________________________________________\n",
            "Layer (type)                 Output Shape              Param #   \n",
            "=================================================================\n",
            "dense (Dense)                (None, 40)                52440     \n",
            "_________________________________________________________________\n",
            "dense_1 (Dense)              (None, 20)                820       \n",
            "=================================================================\n",
            "Total params: 53,260\n",
            "Trainable params: 53,260\n",
            "Non-trainable params: 0\n",
            "_________________________________________________________________\n",
            "WARNING:tensorflow:From /usr/local/lib/python3.6/dist-packages/tensorflow/python/ops/math_ops.py:3066: to_int32 (from tensorflow.python.ops.math_ops) is deprecated and will be removed in a future version.\n",
            "Instructions for updating:\n",
            "Use tf.cast instead.\n",
            "Epoch 1/302\n",
            "32012/32012 [==============================] - 5s 169us/sample - loss: 2.0557 - acc: 0.3856\n",
            "Epoch 2/302\n",
            "32012/32012 [==============================] - 5s 150us/sample - loss: 1.7440 - acc: 0.4430\n",
            "Epoch 3/302\n",
            "32012/32012 [==============================] - 5s 151us/sample - loss: 1.6999 - acc: 0.4510\n",
            "Epoch 4/302\n",
            "32012/32012 [==============================] - 5s 151us/sample - loss: 1.6744 - acc: 0.4577\n",
            "Epoch 5/302\n",
            "32012/32012 [==============================] - 5s 151us/sample - loss: 1.6553 - acc: 0.4600\n",
            "Epoch 6/302\n",
            " 4224/32012 [==>...........................] - ETA: 4s - loss: 1.6106 - acc: 0.4702"
          ],
          "name": "stdout"
        },
        {
          "output_type": "error",
          "ename": "KeyboardInterrupt",
          "evalue": "ignored",
          "traceback": [
            "\u001b[0;31m---------------------------------------------------------------------------\u001b[0m",
            "\u001b[0;31mKeyboardInterrupt\u001b[0m                         Traceback (most recent call last)",
            "\u001b[0;32m<ipython-input-31-046d6e3e46dd>\u001b[0m in \u001b[0;36m<module>\u001b[0;34m()\u001b[0m\n\u001b[1;32m     16\u001b[0m \u001b[0mmodel\u001b[0m\u001b[0;34m.\u001b[0m\u001b[0mcompile\u001b[0m\u001b[0;34m(\u001b[0m\u001b[0moptimizer\u001b[0m\u001b[0;34m=\u001b[0m\u001b[0moptimizer_used\u001b[0m\u001b[0;34m,\u001b[0m \u001b[0mloss\u001b[0m\u001b[0;34m=\u001b[0m\u001b[0mloss_function\u001b[0m\u001b[0;34m,\u001b[0m \u001b[0mmetrics\u001b[0m\u001b[0;34m=\u001b[0m\u001b[0;34m[\u001b[0m\u001b[0;34m'accuracy'\u001b[0m\u001b[0;34m]\u001b[0m\u001b[0;34m)\u001b[0m\u001b[0;34m\u001b[0m\u001b[0;34m\u001b[0m\u001b[0m\n\u001b[1;32m     17\u001b[0m \u001b[0mmodel\u001b[0m\u001b[0;34m.\u001b[0m\u001b[0msummary\u001b[0m\u001b[0;34m(\u001b[0m\u001b[0;34m)\u001b[0m\u001b[0;34m\u001b[0m\u001b[0;34m\u001b[0m\u001b[0m\n\u001b[0;32m---> 18\u001b[0;31m \u001b[0mhistory\u001b[0m\u001b[0;34m=\u001b[0m\u001b[0mmodel\u001b[0m\u001b[0;34m.\u001b[0m\u001b[0mfit\u001b[0m\u001b[0;34m(\u001b[0m\u001b[0mprocessedData\u001b[0m\u001b[0;34m,\u001b[0m \u001b[0mprocessedLabel\u001b[0m\u001b[0;34m,\u001b[0m \u001b[0mepochs\u001b[0m\u001b[0;34m=\u001b[0m \u001b[0mno_epochs\u001b[0m\u001b[0;34m)\u001b[0m\u001b[0;34m\u001b[0m\u001b[0;34m\u001b[0m\u001b[0m\n\u001b[0m",
            "\u001b[0;32m/usr/local/lib/python3.6/dist-packages/tensorflow/python/keras/engine/training.py\u001b[0m in \u001b[0;36mfit\u001b[0;34m(self, x, y, batch_size, epochs, verbose, callbacks, validation_split, validation_data, shuffle, class_weight, sample_weight, initial_epoch, steps_per_epoch, validation_steps, max_queue_size, workers, use_multiprocessing, **kwargs)\u001b[0m\n\u001b[1;32m    878\u001b[0m           \u001b[0minitial_epoch\u001b[0m\u001b[0;34m=\u001b[0m\u001b[0minitial_epoch\u001b[0m\u001b[0;34m,\u001b[0m\u001b[0;34m\u001b[0m\u001b[0;34m\u001b[0m\u001b[0m\n\u001b[1;32m    879\u001b[0m           \u001b[0msteps_per_epoch\u001b[0m\u001b[0;34m=\u001b[0m\u001b[0msteps_per_epoch\u001b[0m\u001b[0;34m,\u001b[0m\u001b[0;34m\u001b[0m\u001b[0;34m\u001b[0m\u001b[0m\n\u001b[0;32m--> 880\u001b[0;31m           validation_steps=validation_steps)\n\u001b[0m\u001b[1;32m    881\u001b[0m \u001b[0;34m\u001b[0m\u001b[0m\n\u001b[1;32m    882\u001b[0m   def evaluate(self,\n",
            "\u001b[0;32m/usr/local/lib/python3.6/dist-packages/tensorflow/python/keras/engine/training_arrays.py\u001b[0m in \u001b[0;36mmodel_iteration\u001b[0;34m(model, inputs, targets, sample_weights, batch_size, epochs, verbose, callbacks, val_inputs, val_targets, val_sample_weights, shuffle, initial_epoch, steps_per_epoch, validation_steps, mode, validation_in_fit, **kwargs)\u001b[0m\n\u001b[1;32m    327\u001b[0m \u001b[0;34m\u001b[0m\u001b[0m\n\u001b[1;32m    328\u001b[0m         \u001b[0;31m# Get outputs.\u001b[0m\u001b[0;34m\u001b[0m\u001b[0;34m\u001b[0m\u001b[0;34m\u001b[0m\u001b[0m\n\u001b[0;32m--> 329\u001b[0;31m         \u001b[0mbatch_outs\u001b[0m \u001b[0;34m=\u001b[0m \u001b[0mf\u001b[0m\u001b[0;34m(\u001b[0m\u001b[0mins_batch\u001b[0m\u001b[0;34m)\u001b[0m\u001b[0;34m\u001b[0m\u001b[0;34m\u001b[0m\u001b[0m\n\u001b[0m\u001b[1;32m    330\u001b[0m         \u001b[0;32mif\u001b[0m \u001b[0;32mnot\u001b[0m \u001b[0misinstance\u001b[0m\u001b[0;34m(\u001b[0m\u001b[0mbatch_outs\u001b[0m\u001b[0;34m,\u001b[0m \u001b[0mlist\u001b[0m\u001b[0;34m)\u001b[0m\u001b[0;34m:\u001b[0m\u001b[0;34m\u001b[0m\u001b[0;34m\u001b[0m\u001b[0m\n\u001b[1;32m    331\u001b[0m           \u001b[0mbatch_outs\u001b[0m \u001b[0;34m=\u001b[0m \u001b[0;34m[\u001b[0m\u001b[0mbatch_outs\u001b[0m\u001b[0;34m]\u001b[0m\u001b[0;34m\u001b[0m\u001b[0;34m\u001b[0m\u001b[0m\n",
            "\u001b[0;32m/usr/local/lib/python3.6/dist-packages/tensorflow/python/keras/backend.py\u001b[0m in \u001b[0;36m__call__\u001b[0;34m(self, inputs)\u001b[0m\n\u001b[1;32m   3074\u001b[0m \u001b[0;34m\u001b[0m\u001b[0m\n\u001b[1;32m   3075\u001b[0m     fetched = self._callable_fn(*array_vals,\n\u001b[0;32m-> 3076\u001b[0;31m                                 run_metadata=self.run_metadata)\n\u001b[0m\u001b[1;32m   3077\u001b[0m     \u001b[0mself\u001b[0m\u001b[0;34m.\u001b[0m\u001b[0m_call_fetch_callbacks\u001b[0m\u001b[0;34m(\u001b[0m\u001b[0mfetched\u001b[0m\u001b[0;34m[\u001b[0m\u001b[0;34m-\u001b[0m\u001b[0mlen\u001b[0m\u001b[0;34m(\u001b[0m\u001b[0mself\u001b[0m\u001b[0;34m.\u001b[0m\u001b[0m_fetches\u001b[0m\u001b[0;34m)\u001b[0m\u001b[0;34m:\u001b[0m\u001b[0;34m]\u001b[0m\u001b[0;34m)\u001b[0m\u001b[0;34m\u001b[0m\u001b[0;34m\u001b[0m\u001b[0m\n\u001b[1;32m   3078\u001b[0m     return nest.pack_sequence_as(self._outputs_structure,\n",
            "\u001b[0;32m/usr/local/lib/python3.6/dist-packages/tensorflow/python/client/session.py\u001b[0m in \u001b[0;36m__call__\u001b[0;34m(self, *args, **kwargs)\u001b[0m\n\u001b[1;32m   1437\u001b[0m           ret = tf_session.TF_SessionRunCallable(\n\u001b[1;32m   1438\u001b[0m               \u001b[0mself\u001b[0m\u001b[0;34m.\u001b[0m\u001b[0m_session\u001b[0m\u001b[0;34m.\u001b[0m\u001b[0m_session\u001b[0m\u001b[0;34m,\u001b[0m \u001b[0mself\u001b[0m\u001b[0;34m.\u001b[0m\u001b[0m_handle\u001b[0m\u001b[0;34m,\u001b[0m \u001b[0margs\u001b[0m\u001b[0;34m,\u001b[0m \u001b[0mstatus\u001b[0m\u001b[0;34m,\u001b[0m\u001b[0;34m\u001b[0m\u001b[0;34m\u001b[0m\u001b[0m\n\u001b[0;32m-> 1439\u001b[0;31m               run_metadata_ptr)\n\u001b[0m\u001b[1;32m   1440\u001b[0m         \u001b[0;32mif\u001b[0m \u001b[0mrun_metadata\u001b[0m\u001b[0;34m:\u001b[0m\u001b[0;34m\u001b[0m\u001b[0;34m\u001b[0m\u001b[0m\n\u001b[1;32m   1441\u001b[0m           \u001b[0mproto_data\u001b[0m \u001b[0;34m=\u001b[0m \u001b[0mtf_session\u001b[0m\u001b[0;34m.\u001b[0m\u001b[0mTF_GetBuffer\u001b[0m\u001b[0;34m(\u001b[0m\u001b[0mrun_metadata_ptr\u001b[0m\u001b[0;34m)\u001b[0m\u001b[0;34m\u001b[0m\u001b[0;34m\u001b[0m\u001b[0m\n",
            "\u001b[0;31mKeyboardInterrupt\u001b[0m: "
          ]
        }
      ]
    },
    {
      "metadata": {
        "id": "1MGh8gRVZqM1",
        "colab_type": "text"
      },
      "cell_type": "markdown",
      "source": [
        "##Model\n"
      ]
    },
    {
      "metadata": {
        "id": "kZAvT-TI9qk1",
        "colab_type": "code",
        "colab": {}
      },
      "cell_type": "code",
      "source": [
        "\n",
        "import numpy as np\n",
        "for df_code in df_sorted:\n",
        "\n",
        "  processedData=np.array(processedData) #direct codes converted to binary freq\n",
        "  processedLabel=np.array(processedLabel)\n",
        "\n"
      ],
      "execution_count": 0,
      "outputs": []
    },
    {
      "metadata": {
        "id": "-t_b1urV074S",
        "colab_type": "code",
        "colab": {}
      },
      "cell_type": "code",
      "source": [
        "#@title Parameters for the model { run: \"auto\" } \n",
        "\n",
        "import tensorflow as tf\n",
        "#run:auto command makes the code block run in real time. Whenever the user amends the input, the block runs automatically for the new set of input.\n",
        "no_of_layers= 3 #@param {type:\"slider\", min:0, max:10, step:1}\n",
        "# A is the list of nodes_in_each_hidden_layer for each of the user defined hidden layers. Eg. A=[128,256,64] implies 3 hidden layers with 128 nodes, 256 nodes and 64 nodes respectively starting from the input layer to the output layer.\n",
        "A=[]\n",
        "# No. of nodes in hidden layer 1\n",
        "nodes_in_layer1 = 300 #@param {type:\"integer\"}\n",
        "\n",
        "validation_splitt=0 #@param{type:\"slider\",min:0.000,max:1.000,step:0.05}\n",
        "Activation_function = tf.nn.crelu #@param [\"relu\", \"relu6\", \"crelu\", \"elu\", \"selu\", \"softplus\", \"softsign\", \"dropout\", \"bias_add\", \"sigmoid\", \"tanh\"]\n",
        "loss_function = 'kullback_leibler_divergence' #@param [\"categorical_crossentropy\", \"sparse_categorical_crossentropy\", \"binary_crossentropy\",\"kullback_leibler_divergence\",\"poisson\",\"cosine_proximity\"]\n",
        "optimizer_used = 'Adam' #@param [\"SGD\", \"RMSprop\", \"Adagrad\",\"Adadelta\",\"Adam\",\"Adamax\",\"Nadam\",\"TFOptimizer\"]"
      ],
      "execution_count": 0,
      "outputs": []
    },
    {
      "metadata": {
        "id": "Hrxyw6wP3aWG",
        "colab_type": "code",
        "outputId": "6b591a2d-1c22-4b32-d074-3f201c186e4a",
        "colab": {
          "base_uri": "https://localhost:8080/",
          "height": 1085
        }
      },
      "cell_type": "code",
      "source": [
        "#@title Parametres for the model { run: \"auto\" }\n",
        "\n",
        "#no_epochs is the integer input for total no. of model parsing -\n",
        "#from input to generating output and back to updating the weights -\n",
        "#according to the error for all training examples.\n",
        "\n",
        "no_epochs=302 #@param{type:\"slider\",min:0,max:10000,step:200}\n",
        " \n",
        "import time\n",
        "start=time.time()\n",
        "\n",
        "#Libraries for current codeblock\n",
        "import tensorflow as tf\n",
        "from tensorflow import nn\n",
        "nodes_in_output_layer=processedLabel.shape[1]\n",
        "input_size=processedData.shape[1]\n",
        "\n",
        "model=tf.keras.models.Sequential()\n",
        "\n",
        "#Various types of layers in keras: Dense, Flatten, Input, Permute, Reshape.[3]\n",
        "#Dense implements the operation: output = activation(dot(input, kernel) + bias)[3]\n",
        "\n",
        "#Adding input layer with size of input i.e. 10 in this case. \n",
        "#The first parameter for function Dense() is No. of nodes. in the layer. model.add appends the newly created hidden layer to the model.\n",
        "\n",
        "model.add(tf.keras.layers.Dense(A[0],activation=Activation_function,input_dim=input_size))\n",
        "for layer_iterator in range(1,len(A)-1):\n",
        "  model.add(tf.keras.layers.Dense(A[layer_iterator+1], activation=Activation_function))\n",
        "#Creating dropout layer\n",
        "#model.add(tf.keras.layers.Dropout(rate=dropout_rate))\n",
        "# Creating the output layer with 4 nodes. Since Output layer \n",
        "model.add(tf.keras.layers.Dense(nodes_in_output_layer, activation=tf.nn.softmax))\n",
        "\n",
        "# Parameters for model creation i.e. optimizers, loss function\n",
        "                                                                                # metric: Accuracy. Accuracy is the measure of correctness of the model\n",
        "                                                                                # - , basically rate to which it classifies the inputs correctly.\n",
        "                                                                                # Validation Accuracy: Percentage of correctly classifying on input chosen from the train dataset itself.\n",
        "                                                                                # Testing Accuracy:  Percentage of correctly classifying on input from a new dataset following the same problem as the train dataset.\n",
        "\n",
        "                                                                                # Optimizer: Algorithm to minimize the error/loss by updating weights to improve the training of the model. e.g.\n",
        "model.compile(optimizer=optimizer_used, loss=loss_function, metrics=['accuracy'])\n",
        "model.summary()\n",
        "history=model.fit(processedData, processedLabel, epochs= no_epochs)\n",
        "\n",
        "end=time.time()"
      ],
      "execution_count": 0,
      "outputs": [
        {
          "output_type": "stream",
          "text": [
            "_________________________________________________________________\n",
            "Layer (type)                 Output Shape              Param #   \n",
            "=================================================================\n",
            "dense_15 (Dense)             (None, 16)                40        \n",
            "_________________________________________________________________\n",
            "dense_16 (Dense)             (None, 16)                136       \n",
            "_________________________________________________________________\n",
            "dense_17 (Dense)             (None, 2)                 34        \n",
            "=================================================================\n",
            "Total params: 210\n",
            "Trainable params: 210\n",
            "Non-trainable params: 0\n",
            "_________________________________________________________________\n",
            "Epoch 1/302\n",
            "27492/27492 [==============================] - 4s 146us/sample - loss: -0.0801 - acc: 0.4539\n",
            "Epoch 2/302\n",
            "27492/27492 [==============================] - 4s 140us/sample - loss: -0.0844 - acc: 0.4502\n",
            "Epoch 3/302\n",
            "27492/27492 [==============================] - 4s 140us/sample - loss: -0.0851 - acc: 0.4617\n",
            "Epoch 4/302\n",
            " 5696/27492 [=====>........................] - ETA: 3s - loss: -0.0856 - acc: 0.4631"
          ],
          "name": "stdout"
        },
        {
          "output_type": "error",
          "ename": "KeyboardInterrupt",
          "evalue": "ignored",
          "traceback": [
            "\u001b[0;31m---------------------------------------------------------------------------\u001b[0m",
            "\u001b[0;31mKeyboardInterrupt\u001b[0m                         Traceback (most recent call last)",
            "\u001b[0;32m<ipython-input-93-cbaaa72a5dd2>\u001b[0m in \u001b[0;36m<module>\u001b[0;34m()\u001b[0m\n\u001b[1;32m     36\u001b[0m \u001b[0mmodel\u001b[0m\u001b[0;34m.\u001b[0m\u001b[0mcompile\u001b[0m\u001b[0;34m(\u001b[0m\u001b[0moptimizer\u001b[0m\u001b[0;34m=\u001b[0m\u001b[0moptimizer_used\u001b[0m\u001b[0;34m,\u001b[0m \u001b[0mloss\u001b[0m\u001b[0;34m=\u001b[0m\u001b[0mloss_function\u001b[0m\u001b[0;34m,\u001b[0m \u001b[0mmetrics\u001b[0m\u001b[0;34m=\u001b[0m\u001b[0;34m[\u001b[0m\u001b[0;34m'accuracy'\u001b[0m\u001b[0;34m]\u001b[0m\u001b[0;34m)\u001b[0m\u001b[0;34m\u001b[0m\u001b[0;34m\u001b[0m\u001b[0m\n\u001b[1;32m     37\u001b[0m \u001b[0mmodel\u001b[0m\u001b[0;34m.\u001b[0m\u001b[0msummary\u001b[0m\u001b[0;34m(\u001b[0m\u001b[0;34m)\u001b[0m\u001b[0;34m\u001b[0m\u001b[0;34m\u001b[0m\u001b[0m\n\u001b[0;32m---> 38\u001b[0;31m \u001b[0mhistory\u001b[0m\u001b[0;34m=\u001b[0m\u001b[0mmodel\u001b[0m\u001b[0;34m.\u001b[0m\u001b[0mfit\u001b[0m\u001b[0;34m(\u001b[0m\u001b[0mprocessedData\u001b[0m\u001b[0;34m,\u001b[0m \u001b[0mprocessedLabel\u001b[0m\u001b[0;34m,\u001b[0m \u001b[0mepochs\u001b[0m\u001b[0;34m=\u001b[0m \u001b[0mno_epochs\u001b[0m\u001b[0;34m)\u001b[0m\u001b[0;34m\u001b[0m\u001b[0;34m\u001b[0m\u001b[0m\n\u001b[0m\u001b[1;32m     39\u001b[0m \u001b[0;34m\u001b[0m\u001b[0m\n\u001b[1;32m     40\u001b[0m \u001b[0mend\u001b[0m\u001b[0;34m=\u001b[0m\u001b[0mtime\u001b[0m\u001b[0;34m.\u001b[0m\u001b[0mtime\u001b[0m\u001b[0;34m(\u001b[0m\u001b[0;34m)\u001b[0m\u001b[0;34m\u001b[0m\u001b[0;34m\u001b[0m\u001b[0m\n",
            "\u001b[0;32m/usr/local/lib/python3.6/dist-packages/tensorflow/python/keras/engine/training.py\u001b[0m in \u001b[0;36mfit\u001b[0;34m(self, x, y, batch_size, epochs, verbose, callbacks, validation_split, validation_data, shuffle, class_weight, sample_weight, initial_epoch, steps_per_epoch, validation_steps, max_queue_size, workers, use_multiprocessing, **kwargs)\u001b[0m\n\u001b[1;32m    878\u001b[0m           \u001b[0minitial_epoch\u001b[0m\u001b[0;34m=\u001b[0m\u001b[0minitial_epoch\u001b[0m\u001b[0;34m,\u001b[0m\u001b[0;34m\u001b[0m\u001b[0;34m\u001b[0m\u001b[0m\n\u001b[1;32m    879\u001b[0m           \u001b[0msteps_per_epoch\u001b[0m\u001b[0;34m=\u001b[0m\u001b[0msteps_per_epoch\u001b[0m\u001b[0;34m,\u001b[0m\u001b[0;34m\u001b[0m\u001b[0;34m\u001b[0m\u001b[0m\n\u001b[0;32m--> 880\u001b[0;31m           validation_steps=validation_steps)\n\u001b[0m\u001b[1;32m    881\u001b[0m \u001b[0;34m\u001b[0m\u001b[0m\n\u001b[1;32m    882\u001b[0m   def evaluate(self,\n",
            "\u001b[0;32m/usr/local/lib/python3.6/dist-packages/tensorflow/python/keras/engine/training_arrays.py\u001b[0m in \u001b[0;36mmodel_iteration\u001b[0;34m(model, inputs, targets, sample_weights, batch_size, epochs, verbose, callbacks, val_inputs, val_targets, val_sample_weights, shuffle, initial_epoch, steps_per_epoch, validation_steps, mode, validation_in_fit, **kwargs)\u001b[0m\n\u001b[1;32m    327\u001b[0m \u001b[0;34m\u001b[0m\u001b[0m\n\u001b[1;32m    328\u001b[0m         \u001b[0;31m# Get outputs.\u001b[0m\u001b[0;34m\u001b[0m\u001b[0;34m\u001b[0m\u001b[0;34m\u001b[0m\u001b[0m\n\u001b[0;32m--> 329\u001b[0;31m         \u001b[0mbatch_outs\u001b[0m \u001b[0;34m=\u001b[0m \u001b[0mf\u001b[0m\u001b[0;34m(\u001b[0m\u001b[0mins_batch\u001b[0m\u001b[0;34m)\u001b[0m\u001b[0;34m\u001b[0m\u001b[0;34m\u001b[0m\u001b[0m\n\u001b[0m\u001b[1;32m    330\u001b[0m         \u001b[0;32mif\u001b[0m \u001b[0;32mnot\u001b[0m \u001b[0misinstance\u001b[0m\u001b[0;34m(\u001b[0m\u001b[0mbatch_outs\u001b[0m\u001b[0;34m,\u001b[0m \u001b[0mlist\u001b[0m\u001b[0;34m)\u001b[0m\u001b[0;34m:\u001b[0m\u001b[0;34m\u001b[0m\u001b[0;34m\u001b[0m\u001b[0m\n\u001b[1;32m    331\u001b[0m           \u001b[0mbatch_outs\u001b[0m \u001b[0;34m=\u001b[0m \u001b[0;34m[\u001b[0m\u001b[0mbatch_outs\u001b[0m\u001b[0;34m]\u001b[0m\u001b[0;34m\u001b[0m\u001b[0;34m\u001b[0m\u001b[0m\n",
            "\u001b[0;32m/usr/local/lib/python3.6/dist-packages/tensorflow/python/keras/backend.py\u001b[0m in \u001b[0;36m__call__\u001b[0;34m(self, inputs)\u001b[0m\n\u001b[1;32m   3074\u001b[0m \u001b[0;34m\u001b[0m\u001b[0m\n\u001b[1;32m   3075\u001b[0m     fetched = self._callable_fn(*array_vals,\n\u001b[0;32m-> 3076\u001b[0;31m                                 run_metadata=self.run_metadata)\n\u001b[0m\u001b[1;32m   3077\u001b[0m     \u001b[0mself\u001b[0m\u001b[0;34m.\u001b[0m\u001b[0m_call_fetch_callbacks\u001b[0m\u001b[0;34m(\u001b[0m\u001b[0mfetched\u001b[0m\u001b[0;34m[\u001b[0m\u001b[0;34m-\u001b[0m\u001b[0mlen\u001b[0m\u001b[0;34m(\u001b[0m\u001b[0mself\u001b[0m\u001b[0;34m.\u001b[0m\u001b[0m_fetches\u001b[0m\u001b[0;34m)\u001b[0m\u001b[0;34m:\u001b[0m\u001b[0;34m]\u001b[0m\u001b[0;34m)\u001b[0m\u001b[0;34m\u001b[0m\u001b[0;34m\u001b[0m\u001b[0m\n\u001b[1;32m   3078\u001b[0m     return nest.pack_sequence_as(self._outputs_structure,\n",
            "\u001b[0;32m/usr/local/lib/python3.6/dist-packages/tensorflow/python/client/session.py\u001b[0m in \u001b[0;36m__call__\u001b[0;34m(self, *args, **kwargs)\u001b[0m\n\u001b[1;32m   1437\u001b[0m           ret = tf_session.TF_SessionRunCallable(\n\u001b[1;32m   1438\u001b[0m               \u001b[0mself\u001b[0m\u001b[0;34m.\u001b[0m\u001b[0m_session\u001b[0m\u001b[0;34m.\u001b[0m\u001b[0m_session\u001b[0m\u001b[0;34m,\u001b[0m \u001b[0mself\u001b[0m\u001b[0;34m.\u001b[0m\u001b[0m_handle\u001b[0m\u001b[0;34m,\u001b[0m \u001b[0margs\u001b[0m\u001b[0;34m,\u001b[0m \u001b[0mstatus\u001b[0m\u001b[0;34m,\u001b[0m\u001b[0;34m\u001b[0m\u001b[0;34m\u001b[0m\u001b[0m\n\u001b[0;32m-> 1439\u001b[0;31m               run_metadata_ptr)\n\u001b[0m\u001b[1;32m   1440\u001b[0m         \u001b[0;32mif\u001b[0m \u001b[0mrun_metadata\u001b[0m\u001b[0;34m:\u001b[0m\u001b[0;34m\u001b[0m\u001b[0;34m\u001b[0m\u001b[0m\n\u001b[1;32m   1441\u001b[0m           \u001b[0mproto_data\u001b[0m \u001b[0;34m=\u001b[0m \u001b[0mtf_session\u001b[0m\u001b[0;34m.\u001b[0m\u001b[0mTF_GetBuffer\u001b[0m\u001b[0;34m(\u001b[0m\u001b[0mrun_metadata_ptr\u001b[0m\u001b[0;34m)\u001b[0m\u001b[0;34m\u001b[0m\u001b[0;34m\u001b[0m\u001b[0m\n",
            "\u001b[0;31mKeyboardInterrupt\u001b[0m: "
          ]
        }
      ]
    },
    {
      "metadata": {
        "id": "Ka5mYrxwCV6s",
        "colab_type": "code",
        "outputId": "0855cc2d-7111-40d1-873a-fb4c373570f7",
        "colab": {
          "base_uri": "https://localhost:8080/",
          "height": 283
        }
      },
      "cell_type": "code",
      "source": [
        "loss,acc=model.evaluate(processedData,processedLabel)\n",
        "print(\"Loss=\",loss,\"\\nAccuracy=\",acc)\n",
        "\n",
        "%matplotlib inline\n",
        "df = pd.DataFrame(history.history)\n",
        "df.plot(subplots=True, grid=True, figsize=(10,15))\n",
        "print(np.std(df))"
      ],
      "execution_count": 0,
      "outputs": [
        {
          "output_type": "stream",
          "text": [
            "27492/27492 [==============================] - 1s 49us/sample - loss: -0.0861 - acc: 0.4559\n",
            "Loss= -0.08612929332495244 \n",
            "Accuracy= 0.45587808\n"
          ],
          "name": "stdout"
        },
        {
          "output_type": "error",
          "ename": "NameError",
          "evalue": "ignored",
          "traceback": [
            "\u001b[0;31m---------------------------------------------------------------------------\u001b[0m",
            "\u001b[0;31mNameError\u001b[0m                                 Traceback (most recent call last)",
            "\u001b[0;32m<ipython-input-71-107f06c581f7>\u001b[0m in \u001b[0;36m<module>\u001b[0;34m()\u001b[0m\n\u001b[1;32m      3\u001b[0m \u001b[0;34m\u001b[0m\u001b[0m\n\u001b[1;32m      4\u001b[0m \u001b[0mget_ipython\u001b[0m\u001b[0;34m(\u001b[0m\u001b[0;34m)\u001b[0m\u001b[0;34m.\u001b[0m\u001b[0mmagic\u001b[0m\u001b[0;34m(\u001b[0m\u001b[0;34m'matplotlib inline'\u001b[0m\u001b[0;34m)\u001b[0m\u001b[0;34m\u001b[0m\u001b[0;34m\u001b[0m\u001b[0m\n\u001b[0;32m----> 5\u001b[0;31m \u001b[0mdf\u001b[0m \u001b[0;34m=\u001b[0m \u001b[0mpd\u001b[0m\u001b[0;34m.\u001b[0m\u001b[0mDataFrame\u001b[0m\u001b[0;34m(\u001b[0m\u001b[0mhistory\u001b[0m\u001b[0;34m.\u001b[0m\u001b[0mhistory\u001b[0m\u001b[0;34m)\u001b[0m\u001b[0;34m\u001b[0m\u001b[0;34m\u001b[0m\u001b[0m\n\u001b[0m\u001b[1;32m      6\u001b[0m \u001b[0mdf\u001b[0m\u001b[0;34m.\u001b[0m\u001b[0mplot\u001b[0m\u001b[0;34m(\u001b[0m\u001b[0msubplots\u001b[0m\u001b[0;34m=\u001b[0m\u001b[0;32mTrue\u001b[0m\u001b[0;34m,\u001b[0m \u001b[0mgrid\u001b[0m\u001b[0;34m=\u001b[0m\u001b[0;32mTrue\u001b[0m\u001b[0;34m,\u001b[0m \u001b[0mfigsize\u001b[0m\u001b[0;34m=\u001b[0m\u001b[0;34m(\u001b[0m\u001b[0;36m10\u001b[0m\u001b[0;34m,\u001b[0m\u001b[0;36m15\u001b[0m\u001b[0;34m)\u001b[0m\u001b[0;34m)\u001b[0m\u001b[0;34m\u001b[0m\u001b[0;34m\u001b[0m\u001b[0m\n\u001b[1;32m      7\u001b[0m \u001b[0mprint\u001b[0m\u001b[0;34m(\u001b[0m\u001b[0mnp\u001b[0m\u001b[0;34m.\u001b[0m\u001b[0mstd\u001b[0m\u001b[0;34m(\u001b[0m\u001b[0mdf\u001b[0m\u001b[0;34m)\u001b[0m\u001b[0;34m)\u001b[0m\u001b[0;34m\u001b[0m\u001b[0;34m\u001b[0m\u001b[0m\n",
            "\u001b[0;31mNameError\u001b[0m: name 'history' is not defined"
          ]
        }
      ]
    },
    {
      "metadata": {
        "id": "ltob7ZkI386g",
        "colab_type": "code",
        "outputId": "c63c81ba-b246-4d15-9ad1-8fd98e1d51c8",
        "colab": {
          "base_uri": "https://localhost:8080/",
          "height": 232
        }
      },
      "cell_type": "code",
      "source": [
        "predictedTestLabel = []\n",
        "for i,j in zip(processedData,processedLabel):\n",
        "    y = model.predict(np.array(i).reshape(-1,5))\n",
        "    predictedTestLabel.append(y.argmax())\n",
        "def decodeLabel(encodedLabel):\n",
        "    if encodedLabel == 0:\n",
        "        return \"a\"\n",
        "    elif encodedLabel == 1:\n",
        "        return \"b\"\n",
        "    elif encodedLabel == 2:\n",
        "        return \"c\"\n",
        "    elif encodedLabel == 3:\n",
        "        return \"d\"\n",
        "    elif encodedLabel == 4:\n",
        "        return \"e\"\n",
        "\n",
        "predictedTestLabel2=[]\n",
        "for Label in predictedTestLabel:\n",
        "  predictedTestLabel2.append(decodeLabel(Label))\n",
        "predictedTestLabel2=pd.DataFrame(predictedTestLabel2)\n",
        "print(pd.concat([df_adj,predictedTestLabel2],ignore_index=True))"
      ],
      "execution_count": 0,
      "outputs": [
        {
          "output_type": "error",
          "ename": "ValueError",
          "evalue": "ignored",
          "traceback": [
            "\u001b[0;31m---------------------------------------------------------------------------\u001b[0m",
            "\u001b[0;31mValueError\u001b[0m                                Traceback (most recent call last)",
            "\u001b[0;32m<ipython-input-29-06a9bc5df42f>\u001b[0m in \u001b[0;36m<module>\u001b[0;34m()\u001b[0m\n\u001b[1;32m      1\u001b[0m \u001b[0mpredictedTestLabel\u001b[0m \u001b[0;34m=\u001b[0m \u001b[0;34m[\u001b[0m\u001b[0;34m]\u001b[0m\u001b[0;34m\u001b[0m\u001b[0;34m\u001b[0m\u001b[0m\n\u001b[1;32m      2\u001b[0m \u001b[0;32mfor\u001b[0m \u001b[0mi\u001b[0m\u001b[0;34m,\u001b[0m\u001b[0mj\u001b[0m \u001b[0;32min\u001b[0m \u001b[0mzip\u001b[0m\u001b[0;34m(\u001b[0m\u001b[0mprocessedData\u001b[0m\u001b[0;34m,\u001b[0m\u001b[0mprocessedLabel\u001b[0m\u001b[0;34m)\u001b[0m\u001b[0;34m:\u001b[0m\u001b[0;34m\u001b[0m\u001b[0;34m\u001b[0m\u001b[0m\n\u001b[0;32m----> 3\u001b[0;31m     \u001b[0my\u001b[0m \u001b[0;34m=\u001b[0m \u001b[0mmodel\u001b[0m\u001b[0;34m.\u001b[0m\u001b[0mpredict\u001b[0m\u001b[0;34m(\u001b[0m\u001b[0mnp\u001b[0m\u001b[0;34m.\u001b[0m\u001b[0marray\u001b[0m\u001b[0;34m(\u001b[0m\u001b[0mi\u001b[0m\u001b[0;34m)\u001b[0m\u001b[0;34m.\u001b[0m\u001b[0mreshape\u001b[0m\u001b[0;34m(\u001b[0m\u001b[0;34m-\u001b[0m\u001b[0;36m1\u001b[0m\u001b[0;34m,\u001b[0m\u001b[0;36m5\u001b[0m\u001b[0;34m)\u001b[0m\u001b[0;34m)\u001b[0m\u001b[0;34m\u001b[0m\u001b[0;34m\u001b[0m\u001b[0m\n\u001b[0m\u001b[1;32m      4\u001b[0m     \u001b[0mpredictedTestLabel\u001b[0m\u001b[0;34m.\u001b[0m\u001b[0mappend\u001b[0m\u001b[0;34m(\u001b[0m\u001b[0my\u001b[0m\u001b[0;34m.\u001b[0m\u001b[0margmax\u001b[0m\u001b[0;34m(\u001b[0m\u001b[0;34m)\u001b[0m\u001b[0;34m)\u001b[0m\u001b[0;34m\u001b[0m\u001b[0;34m\u001b[0m\u001b[0m\n\u001b[1;32m      5\u001b[0m \u001b[0;32mdef\u001b[0m \u001b[0mdecodeLabel\u001b[0m\u001b[0;34m(\u001b[0m\u001b[0mencodedLabel\u001b[0m\u001b[0;34m)\u001b[0m\u001b[0;34m:\u001b[0m\u001b[0;34m\u001b[0m\u001b[0;34m\u001b[0m\u001b[0m\n",
            "\u001b[0;31mValueError\u001b[0m: cannot reshape array of size 3264 into shape (5)"
          ]
        }
      ]
    },
    {
      "metadata": {
        "id": "I1YQbacgDL2T",
        "colab_type": "code",
        "outputId": "a7089f9a-e17c-4391-a92b-3829b1f982c0",
        "colab": {
          "base_uri": "https://localhost:8080/",
          "height": 1103
        }
      },
      "cell_type": "code",
      "source": [
        "pd.DataFrame(predictedTestLabel2)"
      ],
      "execution_count": 0,
      "outputs": [
        {
          "output_type": "execute_result",
          "data": {
            "text/html": [
              "<div>\n",
              "<style scoped>\n",
              "    .dataframe tbody tr th:only-of-type {\n",
              "        vertical-align: middle;\n",
              "    }\n",
              "\n",
              "    .dataframe tbody tr th {\n",
              "        vertical-align: top;\n",
              "    }\n",
              "\n",
              "    .dataframe thead th {\n",
              "        text-align: right;\n",
              "    }\n",
              "</style>\n",
              "<table border=\"1\" class=\"dataframe\">\n",
              "  <thead>\n",
              "    <tr style=\"text-align: right;\">\n",
              "      <th></th>\n",
              "      <th>0</th>\n",
              "    </tr>\n",
              "  </thead>\n",
              "  <tbody>\n",
              "    <tr>\n",
              "      <th>0</th>\n",
              "      <td>b</td>\n",
              "    </tr>\n",
              "    <tr>\n",
              "      <th>1</th>\n",
              "      <td>a</td>\n",
              "    </tr>\n",
              "    <tr>\n",
              "      <th>2</th>\n",
              "      <td>b</td>\n",
              "    </tr>\n",
              "    <tr>\n",
              "      <th>3</th>\n",
              "      <td>b</td>\n",
              "    </tr>\n",
              "    <tr>\n",
              "      <th>4</th>\n",
              "      <td>b</td>\n",
              "    </tr>\n",
              "    <tr>\n",
              "      <th>5</th>\n",
              "      <td>a</td>\n",
              "    </tr>\n",
              "    <tr>\n",
              "      <th>6</th>\n",
              "      <td>b</td>\n",
              "    </tr>\n",
              "    <tr>\n",
              "      <th>7</th>\n",
              "      <td>b</td>\n",
              "    </tr>\n",
              "    <tr>\n",
              "      <th>8</th>\n",
              "      <td>b</td>\n",
              "    </tr>\n",
              "    <tr>\n",
              "      <th>9</th>\n",
              "      <td>a</td>\n",
              "    </tr>\n",
              "    <tr>\n",
              "      <th>10</th>\n",
              "      <td>a</td>\n",
              "    </tr>\n",
              "    <tr>\n",
              "      <th>11</th>\n",
              "      <td>b</td>\n",
              "    </tr>\n",
              "    <tr>\n",
              "      <th>12</th>\n",
              "      <td>b</td>\n",
              "    </tr>\n",
              "    <tr>\n",
              "      <th>13</th>\n",
              "      <td>b</td>\n",
              "    </tr>\n",
              "    <tr>\n",
              "      <th>14</th>\n",
              "      <td>b</td>\n",
              "    </tr>\n",
              "    <tr>\n",
              "      <th>15</th>\n",
              "      <td>b</td>\n",
              "    </tr>\n",
              "    <tr>\n",
              "      <th>16</th>\n",
              "      <td>b</td>\n",
              "    </tr>\n",
              "    <tr>\n",
              "      <th>17</th>\n",
              "      <td>a</td>\n",
              "    </tr>\n",
              "    <tr>\n",
              "      <th>18</th>\n",
              "      <td>b</td>\n",
              "    </tr>\n",
              "    <tr>\n",
              "      <th>19</th>\n",
              "      <td>a</td>\n",
              "    </tr>\n",
              "    <tr>\n",
              "      <th>20</th>\n",
              "      <td>b</td>\n",
              "    </tr>\n",
              "    <tr>\n",
              "      <th>21</th>\n",
              "      <td>b</td>\n",
              "    </tr>\n",
              "    <tr>\n",
              "      <th>22</th>\n",
              "      <td>a</td>\n",
              "    </tr>\n",
              "    <tr>\n",
              "      <th>23</th>\n",
              "      <td>b</td>\n",
              "    </tr>\n",
              "    <tr>\n",
              "      <th>24</th>\n",
              "      <td>a</td>\n",
              "    </tr>\n",
              "    <tr>\n",
              "      <th>25</th>\n",
              "      <td>a</td>\n",
              "    </tr>\n",
              "    <tr>\n",
              "      <th>26</th>\n",
              "      <td>b</td>\n",
              "    </tr>\n",
              "    <tr>\n",
              "      <th>27</th>\n",
              "      <td>a</td>\n",
              "    </tr>\n",
              "    <tr>\n",
              "      <th>28</th>\n",
              "      <td>b</td>\n",
              "    </tr>\n",
              "    <tr>\n",
              "      <th>29</th>\n",
              "      <td>a</td>\n",
              "    </tr>\n",
              "    <tr>\n",
              "      <th>30</th>\n",
              "      <td>a</td>\n",
              "    </tr>\n",
              "    <tr>\n",
              "      <th>31</th>\n",
              "      <td>b</td>\n",
              "    </tr>\n",
              "    <tr>\n",
              "      <th>32</th>\n",
              "      <td>a</td>\n",
              "    </tr>\n",
              "    <tr>\n",
              "      <th>33</th>\n",
              "      <td>a</td>\n",
              "    </tr>\n",
              "  </tbody>\n",
              "</table>\n",
              "</div>"
            ],
            "text/plain": [
              "    0\n",
              "0   b\n",
              "1   a\n",
              "2   b\n",
              "3   b\n",
              "4   b\n",
              "5   a\n",
              "6   b\n",
              "7   b\n",
              "8   b\n",
              "9   a\n",
              "10  a\n",
              "11  b\n",
              "12  b\n",
              "13  b\n",
              "14  b\n",
              "15  b\n",
              "16  b\n",
              "17  a\n",
              "18  b\n",
              "19  a\n",
              "20  b\n",
              "21  b\n",
              "22  a\n",
              "23  b\n",
              "24  a\n",
              "25  a\n",
              "26  b\n",
              "27  a\n",
              "28  b\n",
              "29  a\n",
              "30  a\n",
              "31  b\n",
              "32  a\n",
              "33  a"
            ]
          },
          "metadata": {
            "tags": []
          },
          "execution_count": 52
        }
      ]
    }
  ]
}